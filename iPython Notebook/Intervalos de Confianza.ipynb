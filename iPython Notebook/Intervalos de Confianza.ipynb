{
 "metadata": {
  "name": "",
  "signature": "sha256:68e2a9b173090aa20e1538439941a449cc6bc53b4a7b338a71f43e7c5f058abc"
 },
 "nbformat": 3,
 "nbformat_minor": 0,
 "worksheets": [
  {
   "cells": [
    {
     "cell_type": "code",
     "collapsed": false,
     "input": [
      "#%matplotlib inline\n",
      "#%matplotlib\n",
      "##from IPython.display import set_matplotlib_formats\n",
      "##set_matplotlib_formats('pdf', 'svg')\n",
      "#import seaborn as sns"
     ],
     "language": "python",
     "metadata": {},
     "outputs": [],
     "prompt_number": 6
    },
    {
     "cell_type": "code",
     "collapsed": false,
     "input": [
      "%matplotlib inline\n",
      "import numpy as np\n",
      "import matplotlib as mpl\n",
      "from matplotlib import pylab, mlab, pyplot\n",
      "import matplotlib.pyplot as plt\n",
      "#plt = pyplot\n",
      "\n",
      "from IPython.display import display\n",
      "from IPython.core.pylabtools import figsize, getfigs\n",
      "\n",
      "#from pylab import *\n",
      "from numpy import *\n",
      "import numpy.random as npr\n",
      "from math import factorial\n",
      "import scipy.misc\n",
      "##from scipy.stats import norm, t, chi2, sem\n",
      "from scipy.stats import *\n",
      "\n",
      "import pandas as pd\n",
      "\n",
      "from IPython.display import display, Math, Latex"
     ],
     "language": "python",
     "metadata": {},
     "outputs": [],
     "prompt_number": 7
    },
    {
     "cell_type": "code",
     "collapsed": false,
     "input": [
      "%%latex\n",
      "$$z_{\\alpha/2} = norm.ppf({\\alpha/2})$$\n",
      "$${\\alpha/2} = norm.cdf({\\alpha/2})=Prob(Z<=z_{\\alpha/2})$$"
     ],
     "language": "python",
     "metadata": {},
     "outputs": [
      {
       "latex": [
        "$$z_{\\alpha/2} = norm.ppf({\\alpha/2})$$\n",
        "$${\\alpha/2} = norm.cdf({\\alpha/2})=Prob(Z<=z_{\\alpha/2})$$"
       ],
       "metadata": {},
       "output_type": "display_data",
       "text": [
        "<IPython.core.display.Latex at 0xf993908>"
       ]
      }
     ],
     "prompt_number": 8
    },
    {
     "cell_type": "code",
     "collapsed": false,
     "input": [
      "def icnorm_media(x, a=0.05, sigma=None):\n",
      "    \"\"\"Calculo de Intervalos de Confianza\n",
      "    IC para distribucion normal, seleccionando casos dependiendo si conocemos\n",
      "    la desviacion poblacional sigma (o la varianza var = sigma**2\n",
      "    a -> nivel de significacion\n",
      "    c = 1-a -> nivel de confianza\n",
      "    \"\"\"\n",
      "    n = len(x)\n",
      "    if type(x) == tuple or type(x) == list:\n",
      "        x = 1.0*array(x)\n",
      "    if sigma != None:\n",
      "        s = sigma\n",
      "        z = -norm.ppf(a/2.)\n",
      "    else:\n",
      "        s = x.std(ddof=1)\n",
      "        if n > 30:\n",
      "            z = -norm.ppf(a/2.)\n",
      "        else:\n",
      "            z = -t.ppf(a/2.,n-1)\n",
      "##            z2 = t.ppf((1+1-a)/2,n-1)\n",
      "##scipy.stats.sem(x) calcula el error estandar que es igual a std/sqrt(n)\n",
      "##    m, se = np.mean(x), scipy.stats.sem(x)\n",
      "##    h = se * z\n",
      "##    se = sem(x)\n",
      "##    h2 = se * z2\n",
      "    s = std(x,ddof=1)\n",
      "    if isinstance(x,pd.DataFrame):\n",
      "        m = x.mean().values\n",
      "##        media = x.mean().values.tolist()\n",
      "    else:\n",
      "         m = mean(x)  \n",
      "    h = s * z / sqrt(n)\n",
      "    if isinstance(x, pd.DataFrame):\n",
      "        ic = pd.DataFrame([m, m-h,m+h], index=['media', 'ICm1', 'ICm2'],\n",
      "                      columns=x.columns)\n",
      "##        ic = pd.DataFrame([m-h,m+h], index=['ICm1', 'ICm2'],\n",
      "##                          columns=x.columns)\n",
      "##        m = pd.DataFrame([m], index=['media'], columns=x.columns)\n",
      "    else:\n",
      "        ic = pd.DataFrame([m, m-h,m+h], index=['media', 'ICm1', 'ICm2'],\n",
      "                          columns=[str((1-a)*100) + '%'])\n",
      "##        ic = pd.DataFrame([m-h,m+h], index=['ICm1', 'ICm2'],\n",
      "##                          columns=[str((1-a)*100) + '%'])\n",
      "##    return m, h, m-h, m+h #, h2, m-h2, m+h2\n",
      "    return ic\n",
      "##    return m, ic\n",
      "##        media = x.mean().values.tolist()\n",
      "\n",
      "def icnorm_var(x, a=0.05):\n",
      "    \"\"\"Calculo de Intervalos de Confianza\n",
      "    IC para la varianza y la desviacion estandar usando la distribuci\u00f3n de Pearson o chi2\n",
      "    a -> nivel de significacion\n",
      "    c = 1-a -> nivel de confianza\n",
      "    \"\"\"\n",
      "    n = len(x)\n",
      "    if type(x) == tuple or type(x) == list:\n",
      "        x = 1.0*array(x)      \n",
      "    if isinstance(x,pd.DataFrame):\n",
      "        s = x.std(ddof=1).values\n",
      "        var = x.var(ddof=1).values\n",
      "    else:\n",
      "        s = std(x,ddof=1)\n",
      "        var = x.var(ddof=1)        \n",
      "    z1, z2 = chi2.ppf(1-a/2,n-1), chi2.ppf(a/2,n-1)   \n",
      "    i1, i2 = (n-1) * s**2 / z1, (n-1) * s**2 / z2    \n",
      "    if isinstance(x, pd.DataFrame):\n",
      "        ic = pd.DataFrame([var, i1, i2, s, sqrt(i1), sqrt(i2)],\n",
      "                          index=['Varianza', 'ICv1', 'ICv2', 'Desviacion',\n",
      "                                 'ICstd1', 'ICstd2'], columns=x.columns)\n",
      "    else:\n",
      "        ic = pd.DataFrame([var, i1, i2, s, sqrt(i1), sqrt(i2)],\n",
      "                          index=['Varianza', 'ICv1', 'ICv2', 'Desviacion',\n",
      "                                 'ICstd1', 'ICstd2'],\n",
      "                          columns=[str((1-a)*100) + '%'])\n",
      "    return ic"
     ],
     "language": "python",
     "metadata": {},
     "outputs": [],
     "prompt_number": 9
    },
    {
     "cell_type": "heading",
     "level": 1,
     "metadata": {},
     "source": [
      "EJEMPLO 5.11"
     ]
    },
    {
     "cell_type": "code",
     "collapsed": false,
     "input": [
      "seeded = [49,4,18,26,29,9,16,12,2,22,10,34]\n",
      "unseeded = [61,33,62,45,0,30,82,10,20,358,63,NaN]\n",
      "strikes = pd.DataFrame(seeded,columns=['seeded'])\n",
      "strikes['unseeded'] = unseeded\n",
      "strikes.loc[11,'unseeded']=None\n",
      "icm = icnorm_media(strikes)\n",
      "icv = icnorm_var(strikes)\n",
      "print strikes"
     ],
     "language": "python",
     "metadata": {},
     "outputs": [
      {
       "output_type": "stream",
       "stream": "stdout",
       "text": [
        "    seeded unseeded\n",
        "0       49       61\n",
        "1        4       33\n",
        "2       18       62\n",
        "3       26       45\n",
        "4       29        0\n",
        "5        9       30\n",
        "6       16       82\n",
        "7       12       10\n",
        "8        2       20\n",
        "9       22      358\n",
        "10      10       63\n",
        "11      34     None\n"
       ]
      }
     ],
     "prompt_number": 10
    },
    {
     "cell_type": "code",
     "collapsed": false,
     "input": [
      "icm"
     ],
     "language": "python",
     "metadata": {},
     "outputs": [
      {
       "html": [
        "<div style=\"max-height:1000px;max-width:1500px;overflow:auto;\">\n",
        "<table border=\"1\" class=\"dataframe\">\n",
        "  <thead>\n",
        "    <tr style=\"text-align: right;\">\n",
        "      <th></th>\n",
        "      <th>seeded</th>\n",
        "      <th>unseeded</th>\n",
        "    </tr>\n",
        "  </thead>\n",
        "  <tbody>\n",
        "    <tr>\n",
        "      <th>media</th>\n",
        "      <td> 19.250000</td>\n",
        "      <td>  69.454545</td>\n",
        "    </tr>\n",
        "    <tr>\n",
        "      <th>ICm1</th>\n",
        "      <td> 10.605384</td>\n",
        "      <td>   6.597012</td>\n",
        "    </tr>\n",
        "    <tr>\n",
        "      <th>ICm2</th>\n",
        "      <td> 27.894616</td>\n",
        "      <td> 132.312079</td>\n",
        "    </tr>\n",
        "  </tbody>\n",
        "</table>\n",
        "</div>"
       ],
       "metadata": {},
       "output_type": "pyout",
       "prompt_number": 11,
       "text": [
        "          seeded    unseeded\n",
        "media  19.250000   69.454545\n",
        "ICm1   10.605384    6.597012\n",
        "ICm2   27.894616  132.312079"
       ]
      }
     ],
     "prompt_number": 11
    },
    {
     "cell_type": "code",
     "collapsed": false,
     "input": [
      "icv"
     ],
     "language": "python",
     "metadata": {},
     "outputs": [
      {
       "html": [
        "<div style=\"max-height:1000px;max-width:1500px;overflow:auto;\">\n",
        "<table border=\"1\" class=\"dataframe\">\n",
        "  <thead>\n",
        "    <tr style=\"text-align: right;\">\n",
        "      <th></th>\n",
        "      <th>seeded</th>\n",
        "      <th>unseeded</th>\n",
        "    </tr>\n",
        "  </thead>\n",
        "  <tbody>\n",
        "    <tr>\n",
        "      <th>Varianza</th>\n",
        "      <td> 185.113636</td>\n",
        "      <td>  9787.272727</td>\n",
        "    </tr>\n",
        "    <tr>\n",
        "      <th>ICv1</th>\n",
        "      <td>  92.894408</td>\n",
        "      <td>  4911.485313</td>\n",
        "    </tr>\n",
        "    <tr>\n",
        "      <th>ICv2</th>\n",
        "      <td> 533.643696</td>\n",
        "      <td> 28214.649627</td>\n",
        "    </tr>\n",
        "    <tr>\n",
        "      <th>Desviacion</th>\n",
        "      <td>  13.605647</td>\n",
        "      <td>    98.930646</td>\n",
        "    </tr>\n",
        "    <tr>\n",
        "      <th>ICstd1</th>\n",
        "      <td>   9.638175</td>\n",
        "      <td>    70.081990</td>\n",
        "    </tr>\n",
        "    <tr>\n",
        "      <th>ICstd2</th>\n",
        "      <td>  23.100729</td>\n",
        "      <td>   167.972169</td>\n",
        "    </tr>\n",
        "  </tbody>\n",
        "</table>\n",
        "</div>"
       ],
       "metadata": {},
       "output_type": "pyout",
       "prompt_number": 12,
       "text": [
        "                seeded      unseeded\n",
        "Varianza    185.113636   9787.272727\n",
        "ICv1         92.894408   4911.485313\n",
        "ICv2        533.643696  28214.649627\n",
        "Desviacion   13.605647     98.930646\n",
        "ICstd1        9.638175     70.081990\n",
        "ICstd2       23.100729    167.972169"
       ]
      }
     ],
     "prompt_number": 12
    },
    {
     "cell_type": "heading",
     "level": 1,
     "metadata": {},
     "source": [
      "EJEMPLO 5.10"
     ]
    },
    {
     "cell_type": "code",
     "collapsed": false,
     "input": [
      "#Jannuary precipitation at Ithaca, NY, 1933-1982, inches\n",
      "P = [0.44, 1.18, 2.69, 2.08, 3.66, 1.72, 2.82, 0.72, 1.46, 1.30, 1.35, .54,\n",
      "     2.74, 1.13, 2.5, 1.72, 2.27, 2.82, 1.98, 2.44, 2.53, 2.0, 1.12, 2.13,\n",
      "     1.36, 4.9, 2.94, 1.75, 1.69, 1.88, 1.31, 1.76, 2.17, 2.38, 1.16, 1.39,\n",
      "     1.36, 1.03, 1.11, 1.35, 1.44, 1.84, 1.69,\n",
      "     3.0, 1.36, 6.37, 4.55, .52, .87, 1.51]\n",
      "year = range(1933,1982+1,1)\n",
      "\n",
      "ithaca = pd.DataFrame(P,columns=['P'],index=year)\n",
      "##ithaca.dtypes\n",
      "\n",
      "ithaca['log P'] = log(ithaca['P'])\n",
      "slnx = std(ithaca['log P'],1)\n",
      "lnP=ithaca['log P'].values"
     ],
     "language": "python",
     "metadata": {},
     "outputs": [],
     "prompt_number": 13
    },
    {
     "cell_type": "code",
     "collapsed": false,
     "input": [
      "def quantile2(x, q):\n",
      "    x_i=pd.DataFrame(index=[q], columns=x.columns, dtype=x.dtypes).convert_objects(convert_numeric=True)\n",
      "    for i in range(len(q)):\n",
      "        x_i.loc[q[i]] = x.quantile(q[i]).values\n",
      "    return x_i\n",
      "\n",
      "def bootstrap_resample1(X, n=None):\n",
      "    \"\"\" Bootstrap resample an array_like\n",
      "    Parameters\n",
      "    ----------\n",
      "    X : array_like\n",
      "      data to resample\n",
      "    n : int, optional\n",
      "      length of resampled array, equal to len(X) if n==None\n",
      "    Results\n",
      "    -------\n",
      "    returns X_resamples\n",
      "    \"\"\"\n",
      "    if isinstance(X, pd.Series) or isinstance(X, pd.DataFrame):\n",
      "        filas, columnas = X.index, X.columns\n",
      "        X = X.copy()\n",
      "        X.index = range(len(X.index))\n",
      "    if n == None:\n",
      "        n = len(X)       \n",
      "    resample_i = np.floor(np.random.rand(n)*len(X)).astype(int)\n",
      "    X_resample = np.array(X.irow(resample_i))\n",
      "    X_resample = pd.DataFrame(X_resample, index=filas, columns=columnas).convert_objects(convert_numeric=True)\n",
      "    return X_resample\n",
      "\n",
      "def bootstrap_resampleB(x, n=1000):\n",
      "    \"\"\" Bootstrap resample repeat n times\n",
      "    \"\"\"\n",
      "    x_i=pd.DataFrame(index=[range(n)], columns=ithaca.columns).convert_objects(convert_numeric=True)\n",
      "    for i in range(n):\n",
      "        x_resample = bootstrap_resample1(x)\n",
      "        x_i.loc[i] = x_resample.std(ddof=1).values\n",
      "    return x_i\n",
      "\n",
      "##def bootstrap_resampleB2(x, n=1000):\n",
      "##    \"\"\" Bootstrap resample repeat n times\n",
      "##    \"\"\"\n",
      "##    if isinstance(X, pd.Series) or isinstance(X, pd.DataFrame):\n",
      "##        filas, columnas = X.index, X.columns\n",
      "##        X = X.copy()\n",
      "##        X.index = range(len(X.index))\n",
      "##    if n == None:\n",
      "##        n = len(X)       \n",
      "##    resample_i = np.floor(np.random.rand(n)*len(X)).astype(int)\n",
      "##    X_resample = np.array(X.irow(resample_i))\n",
      "##    X_resample = pd.DataFrame(X_resample, index=filas, columns=columnas).convert_objects(convert_numeric=True)\n",
      "##    x_i=pd.DataFrame(index=[range(n)], columns=ithaca.columns).convert_objects(convert_numeric=True)\n",
      "##    for i in range(n):\n",
      "##        x_resample = bootstrap_resample1(x)\n",
      "##        x_i.loc[i] = x_resample.std(ddof=1).values\n",
      "##    return x_i\n",
      "\n",
      "if __name__ == '__main__':\n",
      "    a=0.05\n",
      "    nb=1000\n",
      "    ithaca_std = bootstrap_resampleB(ithaca,n=nb)\n",
      "    print ithaca_std.head()\n",
      "    percentiles = quantile2(ithaca_std,[a/2, 1-a/2])\n",
      "    print percentiles\n",
      "    print \"\\n\"\n",
      "    ithaca_std_sort = pd.DataFrame(ithaca_std['log P'], copy=True)\n",
      "    ithaca_std_sort = ithaca_std_sort.sort('log P')\n",
      "    low, high = ithaca_std_sort.irow(int(nb*0.05/2-1)).iloc[0], ithaca_std_sort.irow(int(nb*(1-0.05/2)-1)).iloc[0]\n",
      "    print \"Bootstrapped 95% confidence intervals of Standard Deviation\\nLow:\", low, \"\\nHigh:\", high"
     ],
     "language": "python",
     "metadata": {},
     "outputs": [
      {
       "output_type": "stream",
       "stream": "stdout",
       "text": [
        "          P     log P\n",
        "0  1.471745  0.619765\n",
        "1  1.101163  0.462948\n",
        "2  1.206565  0.512057\n",
        "3  1.247193  0.578023\n",
        "4  1.086830  0.488019\n",
        "              P     log P\n",
        "0.025  0.725545  0.408454\n",
        "0.975  1.499703  0.649768\n",
        "\n",
        "\n",
        "Bootstrapped 95% confidence intervals of Standard Deviation\n",
        "Low: 0.408412716354 \n",
        "High: 0.649763344848\n"
       ]
      }
     ],
     "prompt_number": 14
    },
    {
     "cell_type": "heading",
     "level": 3,
     "metadata": {
      "slideshow": {
       "slide_type": "-"
      }
     },
     "source": [
      "EJEMPLO 5.10 con la funcion Bootstrap resamples with remplacement"
     ]
    },
    {
     "cell_type": "code",
     "collapsed": false,
     "input": [
      "#%matplotlib inline\n",
      "#import numpy.random as npr\n",
      "def bootstrap(data, num_samples, statistic, alpha):\n",
      "    \"\"\"Returns bootstrap estimate of 100.0*(1-alpha) CI for statistic.\"\"\"\n",
      "    n = len(data)\n",
      "    idx = npr.randint(0, n, (num_samples, n))\n",
      "    samples = data[idx]\n",
      "    if statistic == np.std or statistic == std:\n",
      "        stat = np.sort(statistic(samples, 1,ddof=1))\n",
      "    else:\n",
      "        stat = np.sort(statistic(samples, 1))\n",
      "    return (stat[int((alpha/2.0)*num_samples)],\n",
      "            stat[int((1-alpha/2.0)*num_samples)],stat)\n",
      "if __name__ == '__main__':\n",
      "    # data of interest is bimodal and obviously not normal\n",
      "    # x = np.concatenate([npr.normal(3, 1, 100), npr.normal(6, 2, 200)])\n",
      "    x = ithaca['log P'].values\n",
      "    \n",
      "    # find mean 95% CI and 100,000 bootstrap samples\n",
      "    low, high, stat = bootstrap(x, 100000, np.mean, 0.05)\n",
      "    # make plots\n",
      "    pylab.figure(figsize=(12,8))\n",
      "    pylab.subplot(221)\n",
      "    pylab.hist(stat, 100, histtype='step')\n",
      "    pylab.title('Historgram of data for mean')\n",
      "    pylab.subplot(222)\n",
      "    pylab.plot([-0.03,0.03], [np.mean(x), np.mean(x)], 'r', linewidth=2)\n",
      "    pylab.scatter(0.1*(npr.random(len(x))-0.5), x)\n",
      "    pylab.plot([0.1,0.2], [low, low], 'r', linewidth=2)\n",
      "    pylab.plot([0.1,0.2], [high, high], 'r', linewidth=2)\n",
      "    pylab.plot([0.15,0.15], [low, high], 'r', linewidth=2)\n",
      "    pylab.xlim([-0.2, 0.3])\n",
      "    pylab.title('Bootstrap 95% CI for mean')\n",
      "    #pylab.savefig('examples/boostrap.png')\n",
      "    print \"Bootstrapped 95% confidence intervals of Mean\\nLow:\", low, \"\\nHigh:\", high    \n",
      "    \n",
      "    # find mean 95% CI and 100,000 bootstrap samples\n",
      "    low, high, stat = bootstrap(x, 100000, np.std, 0.05) \n",
      "    # make plots    \n",
      "    pylab.subplot(223)\n",
      "    pylab.hist(stat, 100, histtype='step')\n",
      "    pylab.title('Historgram of data for std')\n",
      "    pylab.subplot(224)\n",
      "    pylab.plot([-0.03,0.03], [np.std(x,ddof=1), np.std(x,ddof=1)], 'r', linewidth=2)\n",
      "    pylab.scatter(0.1*(npr.random(len(x))-0.5), x)\n",
      "    pylab.plot([0.1,0.2], [low, low], 'r', linewidth=2)\n",
      "    pylab.plot([0.1,0.2], [high, high], 'r', linewidth=2)\n",
      "    pylab.plot([0.15,0.15], [low, high], 'r', linewidth=2)\n",
      "    pylab.xlim([-0.2, 0.3])\n",
      "    pylab.title('Bootstrap 95% CI for std')\n",
      "    #pylab.savefig('examples/boostrap.png')\n",
      "    print \"Bootstrapped 95% confidence intervals of Standard Deviation\\nLow:\", low, \"\\nHigh:\", high"
     ],
     "language": "python",
     "metadata": {},
     "outputs": [
      {
       "output_type": "stream",
       "stream": "stdout",
       "text": [
        "Bootstrapped 95% confidence intervals of Mean\n",
        "Low: 0.383957670124 \n",
        "High: 0.681222169703\n",
        "Bootstrapped 95% confidence intervals of Standard Deviation\n",
        "Low:"
       ]
      },
      {
       "output_type": "stream",
       "stream": "stdout",
       "text": [
        " 0.40870000175 \n",
        "High: 0.645453096998\n"
       ]
      },
      {
       "metadata": {},
       "output_type": "display_data",
       "png": "[encoded data removed]",
       "text": [
        "<matplotlib.figure.Figure at 0xf993c50>"
       ]
      }
     ],
     "prompt_number": 15
    },
    {
     "cell_type": "heading",
     "level": 3,
     "metadata": {},
     "source": [
      "EJEMPLO 5.10 con la funcion Bootstrap resamples with remplacement MODIFICADA"
     ]
    },
    {
     "cell_type": "code",
     "collapsed": false,
     "input": [
      "def bootstrap2(data, num_samples, alpha, statistic=None):\n",
      "    \"\"\"Returns bootstrap estimate of 100.0*(1-alpha) CI for statistic.\"\"\"\n",
      "    n = len(data)\n",
      "    idx = npr.randint(0, n, (num_samples, n))\n",
      "    samples = data[idx]\n",
      "    if statistic == None:\n",
      "        statistic = [np.mean, np.std]\n",
      "        \n",
      "    if size(statistic) == 1:        \n",
      "        if statistic == np.std or statistic == std:\n",
      "            stat = np.sort(statistic(samples, 1,ddof=1))\n",
      "        else:\n",
      "            stat = np.sort(statistic(samples, 1))\n",
      "        return (stat[int((alpha/2.0)*num_samples)],\n",
      "                stat[int((1-alpha/2.0)*num_samples)],stat)\n",
      "    elif size(statistic) == 2:\n",
      "        stat_mean = np.sort(statistic[0](samples, 1))\n",
      "        stat_std = np.sort(statistic[1](samples, 1, ddof=1))  \n",
      "        return (stat_mean[int((alpha/2.0)*num_samples)], stat_mean[int((1-alpha/2.0)*num_samples)], stat_mean, \n",
      "                stat_std[int((alpha/2.0)*num_samples)], stat_std[int((1-alpha/2.0)*num_samples)], stat_std)\n",
      "    else:\n",
      "        print 'Too many arguments in statistic'\n",
      "if __name__ == '__main__':\n",
      "    # data of interest is bimodal and obviously not normal\n",
      "    # x = np.concatenate([npr.normal(3, 1, 100), npr.normal(6, 2, 200)])\n",
      "    x = ithaca['log P'].values\n",
      "    \n",
      "    # find mean 95% CI and 100,000 bootstrap samples\n",
      "    low_mean, high_mean, stat_mean, low_std, high_std, stat_std = bootstrap2(x, 100000, 0.05)\n",
      "    \n",
      "    # make plots for mean\n",
      "    pylab.figure(figsize=(12,6))\n",
      "    pylab.subplot(221)\n",
      "    pylab.hist(stat_mean, 100, histtype='step')\n",
      "    pylab.axvline(low_mean, c='red')\n",
      "    pylab.axvline(high_mean, c='green')\n",
      "    pylab.title('Historgram of data for mean')\n",
      "    pylab.subplot(222)\n",
      "    pylab.plot([-0.03,0.03], [np.mean(x), np.mean(x)], 'r', linewidth=2)\n",
      "    pylab.scatter(0.1*(npr.random(len(x))-0.5), x)\n",
      "    pylab.plot([0.1,0.2], [low, low], 'r', linewidth=2)\n",
      "    pylab.plot([0.1,0.2], [high, high], 'r', linewidth=2)\n",
      "    pylab.plot([0.15,0.15], [low, high], 'r', linewidth=2)\n",
      "    pylab.xlim([-0.2, 0.3])\n",
      "    pylab.title('Bootstrap 95% CI for mean')\n",
      "    #pylab.savefig('examples/boostrap.png')\n",
      "    print \"Bootstrapped 95% confidence intervals of Mean\\nLow:\", low_mean, \"\\nHigh:\", high_mean\n",
      "    \n",
      "    # make plots for std \n",
      "    pylab.subplot(223)\n",
      "    pylab.hist(stat_std, 100, histtype='step')\n",
      "    pylab.axvline(low_std, c='red')\n",
      "    pylab.axvline(high_std, c='green')\n",
      "    pylab.title('Historgram of data for std')\n",
      "    pylab.subplot(224)\n",
      "    pylab.plot([-0.03,0.03], [np.std(x,ddof=1), np.std(x,ddof=1)], 'r', linewidth=2)\n",
      "    pylab.scatter(0.1*(npr.random(len(x))-0.5), x)\n",
      "    pylab.plot([0.1,0.2], [low, low], 'r', linewidth=2)\n",
      "    pylab.plot([0.1,0.2], [high, high], 'r', linewidth=2)\n",
      "    pylab.plot([0.15,0.15], [low, high], 'r', linewidth=2)\n",
      "    pylab.xlim([-0.2, 0.3])\n",
      "    pylab.title('Bootstrap 95% CI for std')\n",
      "    #pylab.savefig('examples/boostrap.png')\n",
      "    print \"Bootstrapped 95% confidence intervals of Standard Deviation\\nLow:\", low_std, \"\\nHigh:\", high_std"
     ],
     "language": "python",
     "metadata": {},
     "outputs": [
      {
       "output_type": "stream",
       "stream": "stdout",
       "text": [
        "Bootstrapped 95% confidence intervals of Mean\n",
        "Low: 0.386600624538 \n",
        "High: 0.681335345954\n",
        "Bootstrapped 95% confidence intervals of Standard Deviation\n",
        "Low:"
       ]
      },
      {
       "output_type": "stream",
       "stream": "stdout",
       "text": [
        " 0.408461679667 \n",
        "High: 0.646168554558\n"
       ]
      },
      {
       "metadata": {},
       "output_type": "display_data",
       "png": "[encoded data removed]",
       "text": [
        "<matplotlib.figure.Figure at 0xf961208>"
       ]
      }
     ],
     "prompt_number": 16
    },
    {
     "cell_type": "heading",
     "level": 3,
     "metadata": {},
     "source": [
      "Bootstrap with permutation-resampling"
     ]
    },
    {
     "cell_type": "code",
     "collapsed": false,
     "input": [
      "def permutation_resampling(case, control, num_samples, statistic):\n",
      "    \"\"\"Returns p-value that statistic for case is different\n",
      "    from statistc for control.\"\"\"\n",
      "\n",
      "    observed_diff = abs(statistic(case) - statistic(control))\n",
      "    num_case = len(case)\n",
      "\n",
      "    combined = np.concatenate([case, control])\n",
      "    diffs = []\n",
      "    for i in range(num_samples):\n",
      "        xs = npr.permutation(combined)\n",
      "        diff = np.mean(xs[:num_case]) - np.mean(xs[num_case:])\n",
      "        diffs.append(diff)\n",
      "\n",
      "    pval = (np.sum(diffs > observed_diff) +\n",
      "            np.sum(diffs < -observed_diff))/float(num_samples)\n",
      "    return pval, observed_diff, diffs\n",
      "\n",
      "if __name__ == '__main__':\n",
      "    # make up some data\n",
      "    case = [94, 38, 23, 197, 99, 16, 141]\n",
      "    control = [52, 10, 40, 104, 51, 27, 146, 30, 46]\n",
      "\n",
      "    # find p-value by permutation resampling\n",
      "    pval, observed_diff, diffs = \\\n",
      "          permutation_resampling(case, control, 10000, np.mean)\n",
      "\n",
      "    # make plots\n",
      "    pylab.title('Empirical null distribution for differences in mean')\n",
      "    pylab.hist(diffs, bins=100, histtype='step', normed=True)\n",
      "    pylab.axvline(observed_diff, c='red', label='diff')\n",
      "    pylab.axvline(-observed_diff, c='green', label='-diff')\n",
      "    pylab.text(60, 0.01, 'p = %.3f' % pval, fontsize=16)\n",
      "    pylab.legend()\n",
      "    #pylab.savefig('examples/permutation.png')"
     ],
     "language": "python",
     "metadata": {},
     "outputs": [
      {
       "metadata": {},
       "output_type": "display_data",
       "png": "[encoded data removed]",
       "text": [
        "<matplotlib.figure.Figure at 0xfa1d630>"
       ]
      }
     ],
     "prompt_number": 17
    },
    {
     "cell_type": "raw",
     "metadata": {},
     "source": [
      "percentile(a, 50) # return 50th percentile of a"
     ]
    },
    {
     "cell_type": "heading",
     "level": 1,
     "metadata": {},
     "source": [
      "EJEMPLO 5.9 sin resampleo con permuta y con remplazo"
     ]
    },
    {
     "cell_type": "code",
     "collapsed": false,
     "input": [
      "#del seeded, unseeded, strikes\n",
      "seeded = [49,4,18,26,29,9,16,12,2,22,10,34]\n",
      "unseeded = [61,33,62,45,0,30,82,10,20,358,63,NaN]\n",
      "##strikes = pd.DataFrame(array([seeded, unseeded]).T,columns=['seeded', 'unseeded'])\n",
      "strikes = pd.DataFrame(array([seeded, unseeded])).T\n",
      "strikes.columns = ['seeded', 'unseeded']\n",
      "strikes"
     ],
     "language": "python",
     "metadata": {},
     "outputs": [
      {
       "html": [
        "<div style=\"max-height:1000px;max-width:1500px;overflow:auto;\">\n",
        "<table border=\"1\" class=\"dataframe\">\n",
        "  <thead>\n",
        "    <tr style=\"text-align: right;\">\n",
        "      <th></th>\n",
        "      <th>seeded</th>\n",
        "      <th>unseeded</th>\n",
        "    </tr>\n",
        "  </thead>\n",
        "  <tbody>\n",
        "    <tr>\n",
        "      <th>0 </th>\n",
        "      <td> 49</td>\n",
        "      <td>  61</td>\n",
        "    </tr>\n",
        "    <tr>\n",
        "      <th>1 </th>\n",
        "      <td>  4</td>\n",
        "      <td>  33</td>\n",
        "    </tr>\n",
        "    <tr>\n",
        "      <th>2 </th>\n",
        "      <td> 18</td>\n",
        "      <td>  62</td>\n",
        "    </tr>\n",
        "    <tr>\n",
        "      <th>3 </th>\n",
        "      <td> 26</td>\n",
        "      <td>  45</td>\n",
        "    </tr>\n",
        "    <tr>\n",
        "      <th>4 </th>\n",
        "      <td> 29</td>\n",
        "      <td>   0</td>\n",
        "    </tr>\n",
        "    <tr>\n",
        "      <th>5 </th>\n",
        "      <td>  9</td>\n",
        "      <td>  30</td>\n",
        "    </tr>\n",
        "    <tr>\n",
        "      <th>6 </th>\n",
        "      <td> 16</td>\n",
        "      <td>  82</td>\n",
        "    </tr>\n",
        "    <tr>\n",
        "      <th>7 </th>\n",
        "      <td> 12</td>\n",
        "      <td>  10</td>\n",
        "    </tr>\n",
        "    <tr>\n",
        "      <th>8 </th>\n",
        "      <td>  2</td>\n",
        "      <td>  20</td>\n",
        "    </tr>\n",
        "    <tr>\n",
        "      <th>9 </th>\n",
        "      <td> 22</td>\n",
        "      <td> 358</td>\n",
        "    </tr>\n",
        "    <tr>\n",
        "      <th>10</th>\n",
        "      <td> 10</td>\n",
        "      <td>  63</td>\n",
        "    </tr>\n",
        "    <tr>\n",
        "      <th>11</th>\n",
        "      <td> 34</td>\n",
        "      <td> NaN</td>\n",
        "    </tr>\n",
        "  </tbody>\n",
        "</table>\n",
        "</div>"
       ],
       "metadata": {},
       "output_type": "pyout",
       "prompt_number": 18,
       "text": [
        "    seeded  unseeded\n",
        "0       49        61\n",
        "1        4        33\n",
        "2       18        62\n",
        "3       26        45\n",
        "4       29         0\n",
        "5        9        30\n",
        "6       16        82\n",
        "7       12        10\n",
        "8        2        20\n",
        "9       22       358\n",
        "10      10        63\n",
        "11      34       NaN"
       ]
      }
     ],
     "prompt_number": 18
    },
    {
     "cell_type": "code",
     "collapsed": false,
     "input": [
      "def Lscale(x,y):\n",
      "    \"\"\"\n",
      "    Data in x in columns, rows for diferent variables    \n",
      "    Min size of x have to 2. Modify function if you want more columns\n",
      "    \"\"\"\n",
      "    x = [i for i in x if ~isnan(i)]\n",
      "    y = [i for i in y if ~isnan(i)]\n",
      "    n = [len(x), len(y)]\n",
      "    #xy = hstack([x, y])\n",
      "    #xy = concatenate([x, y])\n",
      "    xy = array([x, y])\n",
      "    cte = scipy.misc.factorial([x-2 for x in n]) / scipy.misc.factorial(n)\n",
      "    l = zeros(2)\n",
      "    #for c in range(len(n)):\n",
      "        #for xi in xy[:n[c]]:\n",
      "            #for xj in xy[where(xy == xi)[0][0]+1:]:\n",
      "                #l[c] += abs(xi - xj)\n",
      "    for c in range(len(n)):\n",
      "        for i in range(n[c]):\n",
      "            for j in range(i+1,n[c]):\n",
      "                l[c] += abs(xy[c][i] - xy[c][j])\n",
      "    L = cte * l\n",
      "    return L\n",
      "\n",
      "def permutacion(x, y, n=10000):\n",
      "    #x, y = array(datos[0]), array(datos[1]) \n",
      "    #x, y = x[~isnan(x)], y[~isnan(y)]\n",
      "    x, y = [i for i in x if ~isnan(i)], [i for i in y if ~isnan(i)]\n",
      "    xy = hstack([x,y])\n",
      "    #datos = concatenate([x,y])\n",
      "    nx, ny = len(x), len(y)    \n",
      "    ratio = zeros(n)    \n",
      "    for k in range(n):  \n",
      "        xyp = npr.permutation(xy)\n",
      "        xp, yp = xyp[:nx], xyp[nx:]\n",
      "        Lp = Lscale(xp,yp)\n",
      "        ratio[k] = Lp[0]/Lp[1]\n",
      "    print '_'\n",
      "    return ratio \n",
      "\n",
      "####################\n",
      "def permutacion2(x, y, n=10000):\n",
      "    x, y = [i for i in x if ~isnan(i)], [i for i in y if ~isnan(i)]\n",
      "    nx, ny = len(x), len(y)\n",
      "    xy = hstack([x,y])\n",
      "    #xy = concatenate([x,y])\n",
      "    nxy = len(xy)\n",
      "    m = range(nxy-1,nx-1,-1)\n",
      "    xyp = copy(xy)\n",
      "    ratio = zeros(n)\n",
      "    for k in range(n):  \n",
      "        #\n",
      "        for i in range(ny):\n",
      "            pos = int(round(m[i] * npr.random()))            \n",
      "            xyp[pos], xyp[m[i]] = xyp[m[i]], xyp[pos]\n",
      "        #\n",
      "        xp, yp = xyp[:nx], xyp[nx:]\n",
      "        Lp = Lscale(xp,yp)\n",
      "        ratio[k] = Lp[0]/Lp[1]\n",
      "    print '_'\n",
      "    return ratio\n",
      "    # Numero al azar entre [a,b]\n",
      "    #(b - a) * npr.random() + a\n",
      "    \n",
      "    \n",
      "if __name__ == '__main__':\n",
      "    L2 = Lscale(seeded,unseeded)\n",
      "    r0 = L2[0]/L2[1]\n",
      "    print L2\n",
      "    print r0\n",
      "    print '-'*20\n",
      "    radiop = permutacion(seeded,unseeded)\n",
      "    radiop2 = permutacion2(seeded,unseeded)\n",
      "    #Histograma de los datos\n",
      "    pylab.figure()\n",
      "    nper, bper, patchep = pylab.hist(radiop, 100, histtype='step')\n",
      "    pylab.title('Historgram of data L-scale')\n",
      "    pylab.figure()\n",
      "    nper2, bper2, patchep2 = pylab.hist(radiop2, 100, histtype='step')\n",
      "    pylab.title('Historgram of data L-scale 2')    "
     ],
     "language": "python",
     "metadata": {},
     "outputs": [
      {
       "output_type": "stream",
       "stream": "stdout",
       "text": [
        "[  7.87121212  41.8       ]\n",
        "0.188306510077\n",
        "--------------------\n",
        "_"
       ]
      },
      {
       "output_type": "stream",
       "stream": "stdout",
       "text": [
        "\n",
        "_"
       ]
      },
      {
       "output_type": "stream",
       "stream": "stdout",
       "text": [
        "\n"
       ]
      },
      {
       "metadata": {},
       "output_type": "display_data",
       "png": "[encoded data removed]",
       "text": [
        "<matplotlib.figure.Figure at 0x16480978>"
       ]
      },
      {
       "metadata": {},
       "output_type": "display_data",
       "png": "[encoded data removed]",
       "text": [
        "<matplotlib.figure.Figure at 0xffc1390>"
       ]
      }
     ],
     "prompt_number": 21
    },
    {
     "cell_type": "raw",
     "metadata": {},
     "source": [
      "En el libro obtiene 49 de 10000 para el valor 0.188\n",
      "test para los valores p\n",
      "test de 1 cola = 0.0049\n",
      "test de 2 colas = 0.0098"
     ]
    },
    {
     "cell_type": "code",
     "collapsed": false,
     "input": [
      "(sum(radiop<0.188)+sum(radiop-0.188>0.188))/10000."
     ],
     "language": "python",
     "metadata": {},
     "outputs": [
      {
       "metadata": {},
       "output_type": "pyout",
       "prompt_number": 23,
       "text": [
        "0.6129"
       ]
      }
     ],
     "prompt_number": 23
    },
    {
     "cell_type": "code",
     "collapsed": false,
     "input": [
      "print len(where(radiop<=0.188)[0])\n",
      "sum(radiop<=0.188)/10000."
     ],
     "language": "python",
     "metadata": {},
     "outputs": [
      {
       "output_type": "stream",
       "stream": "stdout",
       "text": [
        "56\n"
       ]
      },
      {
       "metadata": {},
       "output_type": "pyout",
       "prompt_number": 24,
       "text": [
        "0.0055999999999999999"
       ]
      }
     ],
     "prompt_number": 24
    },
    {
     "cell_type": "code",
     "collapsed": false,
     "input": [
      "rpr0 = radiop[where(radiop<r0)[0]]\n",
      "print len(rpr0)/10000.\n",
      "rpr02 = radiop2[where(radiop2<r0)[0]]\n",
      "print len(rpr02)/10000.\n",
      "print len(where(radiop<=r0)[0])/10000."
     ],
     "language": "python",
     "metadata": {},
     "outputs": [
      {
       "output_type": "stream",
       "stream": "stdout",
       "text": [
        "0.0058\n",
        "0.0039\n",
        "0.0058\n"
       ]
      }
     ],
     "prompt_number": 25
    },
    {
     "cell_type": "code",
     "collapsed": false,
     "input": [
      "sum(r0-rpr0)/10000."
     ],
     "language": "python",
     "metadata": {},
     "outputs": [
      {
       "metadata": {},
       "output_type": "pyout",
       "prompt_number": 26,
       "text": [
        "0.00010488007307368168"
       ]
      }
     ],
     "prompt_number": 26
    }
   ],
   "metadata": {}
  }
 ]
}