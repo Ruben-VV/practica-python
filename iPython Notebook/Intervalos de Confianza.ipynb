{
 "metadata": {
  "name": "",
  "signature": "sha256:abf848d7bc888be37accb960759bce185dda991c9288f77cfc3a501ada768b45"
 },
 "nbformat": 3,
 "nbformat_minor": 0,
 "worksheets": [
  {
   "cells": [
    {
     "cell_type": "code",
     "collapsed": false,
     "input": [
      "#%matplotlib inline\n",
      "%matplotlib\n",
      "##from IPython.display import set_matplotlib_formats\n",
      "##set_matplotlib_formats('pdf', 'svg')\n",
      "#import seaborn as sns\n",
      "import matplotlib as mpl"
     ],
     "language": "python",
     "metadata": {},
     "outputs": [
      {
       "output_type": "stream",
       "stream": "stdout",
       "text": [
        "Using matplotlib backend: Qt4Agg\n"
       ]
      }
     ],
     "prompt_number": 10
    },
    {
     "cell_type": "code",
     "collapsed": false,
     "input": [
      "import numpy\n",
      "import matplotlib\n",
      "from matplotlib import pylab, mlab, pyplot\n",
      "import matplotlib as mpl\n",
      "import matplotlib.pyplot as plt\n",
      "np = numpy\n",
      "#plt = pyplot\n",
      "\n",
      "from IPython.display import display\n",
      "from IPython.core.pylabtools import figsize, getfigs\n",
      "\n",
      "from pylab import *\n",
      "from numpy import *\n",
      "from math import factorial\n",
      "##from scipy.stats import norm, t, chi2, sem\n",
      "from scipy.stats import *\n",
      "\n",
      "import pandas as pd\n",
      "\n",
      "from IPython.display import display, Math, Latex"
     ],
     "language": "python",
     "metadata": {},
     "outputs": [],
     "prompt_number": 11
    },
    {
     "cell_type": "code",
     "collapsed": false,
     "input": [
      "%%latex\n",
      "$$z_{\\alpha/2} = norm.ppf({\\alpha/2})$$\n",
      "$${\\alpha/2} = norm.cdf({\\alpha/2})=Prob(Z<=z_{\\alpha/2})$$"
     ],
     "language": "python",
     "metadata": {},
     "outputs": [
      {
       "latex": [
        "$$z_{\\alpha/2} = norm.ppf({\\alpha/2})$$\n",
        "$${\\alpha/2} = norm.cdf({\\alpha/2})=Prob(Z<=z_{\\alpha/2})$$"
       ],
       "metadata": {},
       "output_type": "display_data",
       "text": [
        "<IPython.core.display.Latex at 0x3952b38>"
       ]
      }
     ],
     "prompt_number": 2
    },
    {
     "cell_type": "code",
     "collapsed": false,
     "input": [
      "def icnorm_media(x, a=0.05, sigma=None):\n",
      "    \"\"\"Calculo de Intervalos de Confianza\n",
      "    IC para distribucion normal, seleccionando casos dependiendo si conocemos\n",
      "    la desviacion poblacional sigma (o la varianza var = sigma**2\n",
      "    a -> nivel de significacion\n",
      "    c = 1-a -> nivel de confianza\n",
      "    \"\"\"\n",
      "    n = len(x)\n",
      "    if type(x) == tuple or type(x) == list:\n",
      "        x = 1.0*array(x)\n",
      "    if sigma != None:\n",
      "        s = sigma\n",
      "        z = -norm.ppf(a/2.)\n",
      "    else:\n",
      "        s = x.std(ddof=1)\n",
      "        if n > 30:\n",
      "            z = -norm.ppf(a/2.)\n",
      "        else:\n",
      "            z = -t.ppf(a/2.,n-1)\n",
      "##            z2 = t.ppf((1+1-a)/2,n-1)\n",
      "##scipy.stats.sem(x) calcula el error estandar que es igual a std/sqrt(n)\n",
      "##    m, se = np.mean(x), scipy.stats.sem(x)\n",
      "##    h = se * z\n",
      "##    se = sem(x)\n",
      "##    h2 = se * z2\n",
      "    s = std(x,ddof=1)\n",
      "    if isinstance(x,pd.DataFrame):\n",
      "        m = x.mean().values\n",
      "##        media = x.mean().values.tolist()\n",
      "    else:\n",
      "         m = mean(x)  \n",
      "    h = s * z / sqrt(n)\n",
      "    if isinstance(x, pd.DataFrame):\n",
      "        ic = pd.DataFrame([m, m-h,m+h], index=['media', 'ICm1', 'ICm2'],\n",
      "                      columns=x.columns)\n",
      "##        ic = pd.DataFrame([m-h,m+h], index=['ICm1', 'ICm2'],\n",
      "##                          columns=x.columns)\n",
      "##        m = pd.DataFrame([m], index=['media'], columns=x.columns)\n",
      "    else:\n",
      "        ic = pd.DataFrame([m, m-h,m+h], index=['media', 'ICm1', 'ICm2'],\n",
      "                          columns=[str((1-a)*100) + '%'])\n",
      "##        ic = pd.DataFrame([m-h,m+h], index=['ICm1', 'ICm2'],\n",
      "##                          columns=[str((1-a)*100) + '%'])\n",
      "##    return m, h, m-h, m+h #, h2, m-h2, m+h2\n",
      "    return ic\n",
      "##    return m, ic\n",
      "\n",
      "##        media = x.mean().values.tolist()\n",
      "\n",
      "\n",
      "def icnorm_var(x, a=0.05):\n",
      "    \"\"\"Calculo de Intervalos de Confianza\n",
      "    IC para la varianza y la desviacion estandar usando la distribuci\u00f3n de Pearson o chi2\n",
      "    a -> nivel de significacion\n",
      "    c = 1-a -> nivel de confianza\n",
      "    \"\"\"\n",
      "    n = len(x)\n",
      "    if type(x) == tuple or type(x) == list:\n",
      "        x = 1.0*array(x)      \n",
      "    if isinstance(x,pd.DataFrame):\n",
      "        s = x.std(ddof=1).values\n",
      "        var = x.var(ddof=1).values\n",
      "    else:\n",
      "        s = std(x,ddof=1)\n",
      "        var = x.var(ddof=1)        \n",
      "    z1, z2 = chi2.ppf(1-a/2,n-1), chi2.ppf(a/2,n-1)   \n",
      "    i1, i2 = (n-1) * s**2 / z1, (n-1) * s**2 / z2    \n",
      "    if isinstance(x, pd.DataFrame):\n",
      "        ic = pd.DataFrame([var, i1, i2, s, sqrt(i1), sqrt(i2)],\n",
      "                          index=['Varianza', 'ICv1', 'ICv2', 'Desviacion',\n",
      "                                 'ICstd1', 'ICstd2'], columns=x.columns)\n",
      "    else:\n",
      "        ic = pd.DataFrame([var, i1, i2, s, sqrt(i1), sqrt(i2)],\n",
      "                          index=['Varianza', 'ICv1', 'ICv2', 'Desviacion',\n",
      "                                 'ICstd1', 'ICstd2'],\n",
      "                          columns=[str((1-a)*100) + '%'])\n",
      "    return ic"
     ],
     "language": "python",
     "metadata": {},
     "outputs": [],
     "prompt_number": 3
    },
    {
     "cell_type": "heading",
     "level": 1,
     "metadata": {},
     "source": [
      "EJEMPLO 5.11"
     ]
    },
    {
     "cell_type": "code",
     "collapsed": false,
     "input": [
      "seeded = [49,4,18,26,29,9,16,12,2,22,10,34]\n",
      "unseeded = [61,33,62,45,0,30,82,10,20,358,63,NaN]\n",
      "strikes = pd.DataFrame(seeded,columns=['seeded'])\n",
      "strikes['unseeded'] = unseeded\n",
      "strikes.loc[11,'unseeded']=None\n",
      "icm = icnorm_media(strikes)\n",
      "icv = icnorm_var(strikes)\n",
      "print strikes"
     ],
     "language": "python",
     "metadata": {},
     "outputs": [
      {
       "output_type": "stream",
       "stream": "stdout",
       "text": [
        "    seeded unseeded\n",
        "0       49       61\n",
        "1        4       33\n",
        "2       18       62\n",
        "3       26       45\n",
        "4       29        0\n",
        "5        9       30\n",
        "6       16       82\n",
        "7       12       10\n",
        "8        2       20\n",
        "9       22      358\n",
        "10      10       63\n",
        "11      34     None\n"
       ]
      }
     ],
     "prompt_number": 4
    },
    {
     "cell_type": "code",
     "collapsed": false,
     "input": [
      "icm"
     ],
     "language": "python",
     "metadata": {},
     "outputs": [
      {
       "html": [
        "<div style=\"max-height:1000px;max-width:1500px;overflow:auto;\">\n",
        "<table border=\"1\" class=\"dataframe\">\n",
        "  <thead>\n",
        "    <tr style=\"text-align: right;\">\n",
        "      <th></th>\n",
        "      <th>seeded</th>\n",
        "      <th>unseeded</th>\n",
        "    </tr>\n",
        "  </thead>\n",
        "  <tbody>\n",
        "    <tr>\n",
        "      <th>media</th>\n",
        "      <td> 19.250000</td>\n",
        "      <td>  69.454545</td>\n",
        "    </tr>\n",
        "    <tr>\n",
        "      <th>ICm1</th>\n",
        "      <td> 10.605384</td>\n",
        "      <td>   6.597012</td>\n",
        "    </tr>\n",
        "    <tr>\n",
        "      <th>ICm2</th>\n",
        "      <td> 27.894616</td>\n",
        "      <td> 132.312079</td>\n",
        "    </tr>\n",
        "  </tbody>\n",
        "</table>\n",
        "</div>"
       ],
       "metadata": {},
       "output_type": "pyout",
       "prompt_number": 5,
       "text": [
        "          seeded    unseeded\n",
        "media  19.250000   69.454545\n",
        "ICm1   10.605384    6.597012\n",
        "ICm2   27.894616  132.312079"
       ]
      }
     ],
     "prompt_number": 5
    },
    {
     "cell_type": "code",
     "collapsed": false,
     "input": [
      "icv"
     ],
     "language": "python",
     "metadata": {},
     "outputs": [
      {
       "html": [
        "<div style=\"max-height:1000px;max-width:1500px;overflow:auto;\">\n",
        "<table border=\"1\" class=\"dataframe\">\n",
        "  <thead>\n",
        "    <tr style=\"text-align: right;\">\n",
        "      <th></th>\n",
        "      <th>seeded</th>\n",
        "      <th>unseeded</th>\n",
        "    </tr>\n",
        "  </thead>\n",
        "  <tbody>\n",
        "    <tr>\n",
        "      <th>Varianza</th>\n",
        "      <td> 185.113636</td>\n",
        "      <td>  9787.272727</td>\n",
        "    </tr>\n",
        "    <tr>\n",
        "      <th>ICv1</th>\n",
        "      <td>  92.894408</td>\n",
        "      <td>  4911.485313</td>\n",
        "    </tr>\n",
        "    <tr>\n",
        "      <th>ICv2</th>\n",
        "      <td> 533.643696</td>\n",
        "      <td> 28214.649627</td>\n",
        "    </tr>\n",
        "    <tr>\n",
        "      <th>Desviacion</th>\n",
        "      <td>  13.605647</td>\n",
        "      <td>    98.930646</td>\n",
        "    </tr>\n",
        "    <tr>\n",
        "      <th>ICstd1</th>\n",
        "      <td>   9.638175</td>\n",
        "      <td>    70.081990</td>\n",
        "    </tr>\n",
        "    <tr>\n",
        "      <th>ICstd2</th>\n",
        "      <td>  23.100729</td>\n",
        "      <td>   167.972169</td>\n",
        "    </tr>\n",
        "  </tbody>\n",
        "</table>\n",
        "</div>"
       ],
       "metadata": {},
       "output_type": "pyout",
       "prompt_number": 6,
       "text": [
        "                seeded      unseeded\n",
        "Varianza    185.113636   9787.272727\n",
        "ICv1         92.894408   4911.485313\n",
        "ICv2        533.643696  28214.649627\n",
        "Desviacion   13.605647     98.930646\n",
        "ICstd1        9.638175     70.081990\n",
        "ICstd2       23.100729    167.972169"
       ]
      }
     ],
     "prompt_number": 6
    },
    {
     "cell_type": "heading",
     "level": 3,
     "metadata": {},
     "source": [
      "Bootstrap resamples with remplacement"
     ]
    },
    {
     "cell_type": "code",
     "collapsed": false,
     "input": [
      "import numpy.random as npr\n",
      "\n",
      "def bootstrap(data, num_samples, statistic, alpha):\n",
      "    \"\"\"Returns bootstrap estimate of 100.0*(1-alpha) CI for statistic.\"\"\"\n",
      "    n = len(data)\n",
      "    idx = npr.randint(0, n, (num_samples, n))\n",
      "    samples = data[idx]\n",
      "    stat = np.sort(statistic(samples, 1))\n",
      "    return (stat[int((alpha/2.0)*num_samples)],\n",
      "            stat[int((1-alpha/2.0)*num_samples)])\n",
      "\n",
      "if __name__ == '__main__':\n",
      "    # data of interest is bimodal and obviously not normal\n",
      "    x = np.concatenate([npr.normal(3, 1, 100), npr.normal(6, 2, 200)])\n",
      "\n",
      "    # find mean 95% CI and 100,000 bootstrap samples\n",
      "    low, high = bootstrap(x, 100000, np.mean, 0.05)\n",
      "\n",
      "    # make plots\n",
      "    pylab.figure(figsize=(12,6))\n",
      "    pylab.subplot(131)\n",
      "    pylab.hist(x, 50, histtype='step')\n",
      "    pylab.title('Historgram of data')\n",
      "    pylab.subplot(132)\n",
      "    pylab.plot([-0.03,0.03], [np.mean(x), np.mean(x)], 'r', linewidth=2)\n",
      "    pylab.scatter(0.1*(npr.random(len(x))-0.5), x)\n",
      "    pylab.plot([0.1,0.2], [low, low], 'r', linewidth=2)\n",
      "    pylab.plot([0.1,0.2], [high, high], 'r', linewidth=2)\n",
      "    pylab.plot([0.15,0.15], [low, high], 'r', linewidth=2)\n",
      "    pylab.xlim([-0.2, 0.3])\n",
      "    pylab.title('Bootstrap 95% CI for mean')\n",
      "    #pylab.savefig('examples/boostrap.png')\n",
      "    print \"Bootstrapped 95% confidence intervals of Mean\\nLow:\", low, \"\\nHigh:\", high\n",
      "    \n",
      "    # find standard deviation 95% CI bootstrap samples\n",
      "    low, high =  bootstrap(x, 100000, np.std, 0.05)\n",
      "    # make plots\n",
      "    pylab.subplot(133)\n",
      "    pylab.plot([-0.03,0.03], [np.std(x), np.std(x)], 'r', linewidth=2)\n",
      "    pylab.scatter(0.1*(npr.random(len(x))-0.5), x)\n",
      "    pylab.plot([0.1,0.2], [low, low], 'r', linewidth=2)\n",
      "    pylab.plot([0.1,0.2], [high, high], 'r', linewidth=2)\n",
      "    pylab.plot([0.15,0.15], [low, high], 'r', linewidth=2)\n",
      "    pylab.xlim([-0.2, 0.3])\n",
      "    pylab.title('Bootstrap 95% CI for std')\n",
      "    #pylab.savefig('examples/boostrap.png')\n",
      "    print \"Bootstrapped 95% confidence intervals of Standard Deviation\\nLow:\", low, \"\\nHigh:\", high"
     ],
     "language": "python",
     "metadata": {},
     "outputs": [
      {
       "output_type": "stream",
       "stream": "stdout",
       "text": [
        "Bootstrapped 95% confidence intervals of Mean\n",
        "Low: 4.88039873928 \n",
        "High: 5.39644092265\n",
        "Bootstrapped 95% confidence intervals of Standard Deviation\n",
        "Low:"
       ]
      },
      {
       "output_type": "stream",
       "stream": "stdout",
       "text": [
        " 2.12428641903 \n",
        "High: 2.43523177955\n"
       ]
      },
      {
       "metadata": {},
       "output_type": "display_data",
       "png": "[encoded data removed]",
       "text": [
        "<matplotlib.figure.Figure at 0x16004550>"
       ]
      }
     ],
     "prompt_number": 28
    },
    {
     "cell_type": "code",
     "collapsed": false,
     "input": [
      "%matplotlib inline"
     ],
     "language": "python",
     "metadata": {},
     "outputs": [],
     "prompt_number": 17
    },
    {
     "cell_type": "heading",
     "level": 3,
     "metadata": {},
     "source": [
      "Bootstrap with permutation-resampling"
     ]
    },
    {
     "cell_type": "code",
     "collapsed": false,
     "input": [
      "import numpy as np\n",
      "import numpy.random as npr\n",
      "import pylab\n",
      "\n",
      "def permutation_resampling(case, control, num_samples, statistic):\n",
      "    \"\"\"Returns p-value that statistic for case is different\n",
      "    from statistc for control.\"\"\"\n",
      "\n",
      "    observed_diff = abs(statistic(case) - statistic(control))\n",
      "    num_case = len(case)\n",
      "\n",
      "    combined = np.concatenate([case, control])\n",
      "    diffs = []\n",
      "    for i in range(num_samples):\n",
      "        xs = npr.permutation(combined)\n",
      "        diff = np.mean(xs[:num_case]) - np.mean(xs[num_case:])\n",
      "        diffs.append(diff)\n",
      "\n",
      "    pval = (np.sum(diffs > observed_diff) +\n",
      "            np.sum(diffs < -observed_diff))/float(num_samples)\n",
      "    return pval, observed_diff, diffs\n",
      "\n",
      "if __name__ == '__main__':\n",
      "    # make up some data\n",
      "    case = [94, 38, 23, 197, 99, 16, 141]\n",
      "    control = [52, 10, 40, 104, 51, 27, 146, 30, 46]\n",
      "\n",
      "    # find p-value by permutation resampling\n",
      "    pval, observed_diff, diffs = \\\n",
      "          permutation_resampling(case, control, 10000, np.mean)\n",
      "\n",
      "    # make plots\n",
      "    pylab.title('Empirical null distribution for differences in mean')\n",
      "    pylab.hist(diffs, bins=100, histtype='step', normed=True)\n",
      "    pylab.axvline(observed_diff, c='red', label='diff')\n",
      "    pylab.axvline(-observed_diff, c='green', label='-diff')\n",
      "    pylab.text(60, 0.01, 'p = %.3f' % pval, fontsize=16)\n",
      "    pylab.legend()\n",
      "    #pylab.savefig('examples/permutation.png')"
     ],
     "language": "python",
     "metadata": {},
     "outputs": [
      {
       "metadata": {},
       "output_type": "display_data",
       "png": "[encoded data removed]",
       "text": [
        "<matplotlib.figure.Figure at 0x153cf160>"
       ]
      }
     ],
     "prompt_number": 27
    },
    {
     "cell_type": "heading",
     "level": 1,
     "metadata": {},
     "source": [
      "EJEMPLO 5.10"
     ]
    },
    {
     "cell_type": "code",
     "collapsed": false,
     "input": [
      "#Jannuary precipitation at Ithaca, NY, 1933-1982, inches\n",
      "P = [0.44, 1.18, 2.69, 2.08, 3.66, 1.72, 2.82, 0.72, 1.46, 1.30, 1.35, .54,\n",
      "     2.74, 1.13, 2.5, 1.72, 2.27, 2.82, 1.98, 2.44, 2.53, 2.0, 1.12, 2.13,\n",
      "     1.36, 4.9, 2.94, 1.75, 1.69, 1.88, 1.31, 1.76, 2.17, 2.38, 1.16, 1.39,\n",
      "     1.36, 1.03, 1.11, 1.35, 1.44, 1.84, 1.69,\n",
      "     3.0, 1.36, 6.37, 4.55, .52, .87, 1.51]\n",
      "year = range(1933,1982+1,1)\n",
      "\n",
      "ithaca = pd.DataFrame(P,columns=['P'],index=year)\n",
      "##ithaca.dtypes\n",
      "\n",
      "ithaca['log P'] = log(ithaca['P'])\n",
      "slnx = std(ithaca['log P'],1)\n",
      "lnP=ithaca['log P'].values"
     ],
     "language": "python",
     "metadata": {},
     "outputs": []
    },
    {
     "cell_type": "code",
     "collapsed": false,
     "input": [
      "def quantile2(x, q):\n",
      "    x_i=pd.DataFrame(index=[q], columns=ithaca.columns)\n",
      "    for i in range(len(q)):\n",
      "        x_i.loc[q[i]] = ithaca.quantile(q[i]).values\n",
      "    return x_i\n",
      "\n",
      "percentiles = quantile2(ithaca_resampled2,[1-a/2, a/2])\n",
      "print percentiles\n",
      "\n",
      "\n",
      "def bootstrap_resample1(X, n=None):\n",
      "    \"\"\" Bootstrap resample an array_like\n",
      "    Parameters\n",
      "    ----------\n",
      "    X : array_like\n",
      "      data to resample\n",
      "    n : int, optional\n",
      "      length of resampled array, equal to len(X) if n==None\n",
      "    Results\n",
      "    -------\n",
      "    returns X_resamples\n",
      "    \"\"\"\n",
      "    if isinstance(X, pd.Series) or isinstance(X, pd.DataFrame):\n",
      "        filas, columnas = X.index, X.columns\n",
      "        X = X.copy()\n",
      "        X.index = range(len(X.index))\n",
      "    if n == None:\n",
      "        n = len(X)       \n",
      "    resample_i = np.floor(np.random.rand(n)*len(X)).astype(int)\n",
      "    X_resample = np.array(X.irow(resample_i))\n",
      "    X_resample = pd.DataFrame(X_resample, index=filas, columns=columnas)\n",
      "    return X_resample\n",
      "\n",
      "\n",
      "def bootstrap_resampleB(x, n=1000):\n",
      "    \"\"\" Bootstrap resample repeat n times\n",
      "    \"\"\"\n",
      "    x_i=pd.DataFrame(index=[range(n)], columns=ithaca.columns)\n",
      "    for i in range(n):\n",
      "        x_resample = bootstrap_resample1(x)\n",
      "        x_i.loc[i] = x_resample.std(ddof=1).values\n",
      "    return x_i\n",
      "\n",
      "a=0.05\n",
      "ithaca_std = bootstrap_resampleB(ithaca)\n",
      "print ithaca_std\n",
      "percentiles = quantile2(ithaca_std,[a/2, 1-a/2])\n",
      "print percentiles\n",
      "\n",
      "ithaca_std_sort = pd.DataFrame(ithaca_std['log P'], copy=True)\n",
      "print ithaca_std_sort.ix[1000*0.05/2-1]\n",
      "print ithaca_std_sort.ix[1000*(1-0.05/2)-1]"
     ],
     "language": "python",
     "metadata": {},
     "outputs": []
    }
   ],
   "metadata": {}
  }
 ]
}