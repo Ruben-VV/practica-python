{
 "metadata": {
  "name": "",
  "signature": "sha256:bf7def57126b85f88c538495669f2d97cf1a75f78035b6078541e5bf51cb7b0d"
 },
 "nbformat": 3,
 "nbformat_minor": 0,
 "worksheets": [
  {
   "cells": [
    {
     "cell_type": "code",
     "collapsed": false,
     "input": [
      "%pylab\n",
      "%matplotlib inline"
     ],
     "language": "python",
     "metadata": {},
     "outputs": [
      {
       "output_type": "stream",
       "stream": "stdout",
       "text": [
        "Using matplotlib backend: TkAgg\n",
        "Populating the interactive namespace from numpy and matplotlib\n"
       ]
      }
     ],
     "prompt_number": 2
    },
    {
     "cell_type": "code",
     "collapsed": false,
     "input": [
      "import numpy.random as npr\n",
      "#import scipy.misc\n",
      "from scipy.stats import norm, t, chi2, sem\n",
      "#from scipy.stats import *\n",
      "import pandas as pd\n",
      "\n",
      "import aeronettools as at\n",
      "from aeronettools_pynb import extract_aeronet_data\n",
      "\n",
      "from dnormal import icnorm_media\n",
      "from bootstrap_propio import bootstrap"
     ],
     "language": "python",
     "metadata": {},
     "outputs": [],
     "prompt_number": 3
    },
    {
     "cell_type": "code",
     "collapsed": false,
     "input": [
      "file_aeronet_Murcia = '/spred/pn32/Renovables/Red/Aeronet/lev15/130501_130531_Murcia.lev15'\n",
      "df_out_Murcia = extract_aeronet_data(file_aeronet_Murcia)\n",
      "print df_out_Murcia.shape\n",
      "print at.extract_aeronet_data(file_aeronet_Murcia).shape"
     ],
     "language": "python",
     "metadata": {},
     "outputs": [
      {
       "output_type": "stream",
       "stream": "stdout",
       "text": [
        "(164, 2)\n",
        "(103, 2)"
       ]
      },
      {
       "output_type": "stream",
       "stream": "stdout",
       "text": [
        "\n"
       ]
      }
     ],
     "prompt_number": 4
    },
    {
     "cell_type": "code",
     "collapsed": false,
     "input": [
      "# data of interest is bimodal and obviously not normal\n",
      "# x = np.concatenate([npr.normal(3, 1, 100), npr.normal(6, 2, 200)])\n",
      "x = df_out_Murcia['AOT_500'].values\n",
      "\n",
      "# find mean 95% CI and 100,000 bootstrap samples\n",
      "low_mean, high_mean, stat_mean, low_std, high_std, stat_std = bootstrap(x, 10000, 0.05)\n",
      "obs_mean = x.mean()\n",
      "norm_mean = icnorm_media(x)\n",
      "low_nmean = norm_mean.loc['ICm1'].values[0]\n",
      "high_nmean = norm_mean.loc['ICm2'].values[0]    \n",
      "\n",
      "# make plots for mean\n",
      "pylab.figure(figsize=(12,6))\n",
      "pylab.subplot(221)\n",
      "pylab.hist(stat_mean, 100, histtype='step')\n",
      "pylab.axvline(low_mean, c='red')\n",
      "pylab.axvline(high_mean, c='green')\n",
      "pylab.axvline(obs_mean, c='black')\n",
      "pylab.title('Historgram of data for mean\\'s Bootstrap')\n",
      "pylab.subplot(222)\n",
      "#pylab.hist(x, 10, histtype='step')\n",
      "pylab.plot(range(1,len(x)+1), x, '.-')\n",
      "pylab.axhline(low_nmean, c='red')\n",
      "pylab.axhline(high_nmean, c='green')\n",
      "pylab.axhline(obs_mean, c='black')\n",
      "pylab.title('Historgram of data for mean\\'s Gaussian Distribution')\n",
      "\n",
      "print \"Observed Mean: \", obs_mean\n",
      "print \"Gaussian Distribution 95% confidence intervals of Mean\\nLow:\", low_nmean, \"\\nHigh:\", high_nmean\n",
      "#print icnorm_media(x)\n",
      "print \"Bootstrapped 95% confidence intervals of Mean\\nLow:\", low_mean, \"\\nHigh:\", high_mean\n",
      "print \"Difference between CI (B-G) \\nLow:\", (low_mean-low_nmean), ', ', (low_mean-low_nmean)/low_mean*100, '%' ,\\\n",
      "        \"\\nHigh:\", (high_mean-high_nmean), ', ', (high_mean-high_nmean)/high_mean*100, '%'"
     ],
     "language": "python",
     "metadata": {},
     "outputs": [
      {
       "output_type": "stream",
       "stream": "stdout",
       "text": [
        "Observed Mean:  0.131373545732\n",
        "Gaussian Distribution 95% confidence intervals of Mean\n",
        "Low: 0.117304768823 \n",
        "High: 0.145442322641\n",
        "Bootstrapped 95% confidence intervals of Mean\n",
        "Low: 0.117703283537 \n",
        "High: 0.145861920732\n",
        "Difference between CI (B-G) \n",
        "Low: 0.00039851471383 ,  0.338575698023 % \n",
        "High: 0.000419598091048 ,  0.287668014341 %\n"
       ]
      },
      {
       "metadata": {},
       "output_type": "display_data",
       "png": "[encoded data removed]",
       "text": [
        "<matplotlib.figure.Figure at 0xa400026c>"
       ]
      }
     ],
     "prompt_number": 5
    },
    {
     "cell_type": "code",
     "collapsed": false,
     "input": [
      "import numpy as np\n",
      "import scipy as sp\n",
      "import scipy.stats\n",
      "\n",
      "def mean_confidence_interval(data, confidence=0.95):\n",
      "    a = 1.0*np.array(data)\n",
      "    n = len(a)\n",
      "    m, se = np.mean(a), scipy.stats.sem(a)\n",
      "    h = se * sp.stats.t._ppf((1+confidence)/2., n-1)\n",
      "    return m, m-h, m+h\n",
      "\n",
      "confidence = 0.95\n",
      "mean_ci = mean_confidence_interval(x,confidence)\n",
      "print \"Observed Mean: \", mean_ci[0]\n",
      "print \"Gaussian Distribution \", confidence*100, \"% confidence intervals of Mean\\nLow:\", mean_ci[1], \"\\nHigh:\", mean_ci[2]\n"
     ],
     "language": "python",
     "metadata": {},
     "outputs": [
      {
       "output_type": "stream",
       "stream": "stdout",
       "text": [
        "Observed Mean:  0.131373545732\n",
        "Gaussian Distribution  95.0 % confidence intervals of Mean\n",
        "Low: 0.117199533612 \n",
        "High: 0.145547557851\n"
       ]
      }
     ],
     "prompt_number": 6
    },
    {
     "cell_type": "raw",
     "metadata": {},
     "source": [
      "pylab.figure(figsize=(18,5))\n",
      "pylab.subplot(121)\n",
      "plt.errorbar(range(len(x)), x, yerr=[[low_mean for _ in range(len(x))], [high_mean for _ in range(len(x))]], fmt='.-')\n",
      "pylab.title('Bootstrap')\n",
      "pylab.subplot(122)\n",
      "plt.errorbar(range(len(x)), x, yerr=[[low_nmean for _ in range(len(x))], [high_nmean for _ in range(len(x))]], fmt='.-')\n",
      "pylab.title('Gaussian Distribution')\n",
      "\n",
      "pylab.figure(figsize=(18,5))\n",
      "plt.errorbar(range(len(x)), x, yerr=[[low_mean for _ in range(len(x))], [high_mean for _ in range(len(x))]], fmt='r.-')\n",
      "plt.errorbar(range(len(x)), x, yerr=[[low_nmean for _ in range(len(x))], [high_nmean for _ in range(len(x))]], fmt='g.-')"
     ]
    },
    {
     "cell_type": "heading",
     "level": 1,
     "metadata": {},
     "source": [
      "Murcia 2013"
     ]
    },
    {
     "cell_type": "code",
     "collapsed": false,
     "input": [
      "## Con la funcion at.extract_aeronet_data ##\n",
      "file_aeronet_Murcia = '/spred/pn32/Renovables/Red/Aeronet/lev15/130101_131231_Murcia.lev15'\n",
      "df_out_Murcia = at.extract_aeronet_data(file_aeronet_Murcia)\n",
      "df_out_Murcia['month'] = df_out_Murcia.index.month\n",
      "\n",
      "aodMen_Murcia = [df_out_Murcia[df_out_Murcia['month']==i]['AOT_500'].mean() for i in range(1,13)]\n",
      "dataAODmen_Murcia = [len(df_out_Murcia[df_out_Murcia['month']==i]['AOT_500']) for i in range(1,13)]\n",
      "df_Murcia = pd.DataFrame({'AODmean_Murcia':aodMen_Murcia, 'number of AOD data':dataAODmen_Murcia })\n",
      "ax = df_Murcia.plot(y = 'AODmean_Murcia')\n",
      "\n",
      "ax2 = df_Murcia['number of AOD data'].plot(kind = 'bar', secondary_y=True, color ='white', align='center')\n",
      "#ax2 =df_Murcia.plot(y = 'number of AOD data', secondary_y=True)\n",
      "\n",
      "ax.set_ylabel(\"AOD monthly mean\", fontsize=12)\n",
      "ax2.set_ylabel(\"number of AOD data\", fontsize=12)\n",
      "\n",
      "#ax.set_ylim(-150,200)\n",
      "width = 0.3\n",
      "ind = np.arange(len(dataAODmen_Murcia))\n",
      "#rects1 = ax2.bar(ind, dataAODmen_Murcia, width, color='white', align='center')\n",
      "xTickMarks = ['jan', 'feb', 'mar', 'apr', 'may', 'jun', 'jul', 'aug', 'sep',\n",
      "               'oct', 'nov', 'dec']\n",
      "ax.set_xticks(ind)\n",
      "ax.set_ylim(0,0.25)\n",
      "ax2.set_ylim(0,1000)\n",
      "xtickNames = ax.set_xticklabels(xTickMarks)               \n",
      "                \n",
      "#bar_label(rects1, dataAODmen_Murcia)\n",
      "ax.set_title('Murcia2013')"
     ],
     "language": "python",
     "metadata": {},
     "outputs": [
      {
       "metadata": {},
       "output_type": "pyout",
       "prompt_number": 7,
       "text": [
        "<matplotlib.text.Text at 0xa400d32c>"
       ]
      },
      {
       "metadata": {},
       "output_type": "display_data",
       "png": "[encoded data removed]",
       "text": [
        "<matplotlib.figure.Figure at 0xa404ce0c>"
       ]
      }
     ],
     "prompt_number": 7
    },
    {
     "cell_type": "code",
     "collapsed": false,
     "input": [
      "file_aeronet_Murcia = '/spred/pn32/Renovables/Red/Aeronet/lev15/130101_131231_Murcia.lev15'\n",
      "df_out_Murcia = extract_aeronet_data(file_aeronet_Murcia)\n",
      "#df_out_Murcia = at.extract_aeronet_data(file_aeronet_Murcia)\n",
      "df_out_Murcia['month'] = df_out_Murcia.index.month\n",
      "\n",
      "\n",
      "aodMen_Murcia = [df_out_Murcia[df_out_Murcia['month']==i]['AOT_500'].mean() for i in range(1,13)]\n",
      "dataAODmen_Murcia = [len(df_out_Murcia[df_out_Murcia['month']==i]['AOT_500']) for i in range(1,13)]\n",
      "df_Murcia = pd.DataFrame({'AODmean_Murcia':aodMen_Murcia, 'number of AOD data':dataAODmen_Murcia })\n",
      "ax = df_Murcia.plot(y = 'AODmean_Murcia')\n",
      "\n",
      "ax2 = df_Murcia['number of AOD data'].plot(kind = 'bar', secondary_y=True, color ='white', align='center')\n",
      "#ax2 =df_Murcia.plot(y = 'number of AOD data', secondary_y=True)\n",
      "\n",
      "ax.set_ylabel(\"AOD monthly mean\", fontsize=12)\n",
      "ax2.set_ylabel(\"number of AOD data\", fontsize=12)\n",
      "\n",
      "#ax.set_ylim(-150,200)\n",
      "width = 0.3\n",
      "ind = np.arange(len(dataAODmen_Murcia))\n",
      "#rects1 = ax2.bar(ind, dataAODmen_Murcia, width, color='white', align='center')\n",
      "xTickMarks = ['jan', 'feb', 'mar', 'apr', 'may', 'jun', 'jul', 'aug', 'sep',\n",
      "               'oct', 'nov', 'dec']\n",
      "ax.set_xticks(ind)\n",
      "ax.set_ylim(0,0.25)\n",
      "ax2.set_ylim(0,1000)\n",
      "xtickNames = ax.set_xticklabels(xTickMarks) \n",
      "ax.set_xlim(-1,12)\n",
      "ax2.set_xlim(-1,12)\n",
      "                \n",
      "#bar_label(rects1, dataAODmen_Murcia)\n",
      "ax.set_title('Murcia2013')"
     ],
     "language": "python",
     "metadata": {},
     "outputs": [
      {
       "metadata": {},
       "output_type": "pyout",
       "prompt_number": 8,
       "text": [
        "<matplotlib.text.Text at 0xa3f6a4ac>"
       ]
      },
      {
       "metadata": {},
       "output_type": "display_data",
       "png": "[encoded data removed]",
       "text": [
        "<matplotlib.figure.Figure at 0xa3fc1a2c>"
       ]
      }
     ],
     "prompt_number": 8
    },
    {
     "cell_type": "code",
     "collapsed": false,
     "input": [
      "file_aeronet_Murcia = '/spred/pn32/Renovables/Red/Aeronet/lev15/130101_131231_Murcia.lev15'\n",
      "df_out_Murcia = extract_aeronet_data(file_aeronet_Murcia)\n",
      "#df_out_Murcia = at.extract_aeronet_data(file_aeronet_Murcia)\n",
      "df_out_Murcia['month'] = df_out_Murcia.index.month\n",
      "\n",
      "# data of interest is bimodal and obviously not normal\n",
      "# x = np.concatenate([npr.normal(3, 1, 100), npr.normal(6, 2, 200)])\n",
      "x = df_out_Murcia['AOT_500'].values\n",
      "\n",
      "aodMen_Murcia = [df_out_Murcia[df_out_Murcia['month']==i]['AOT_500'].mean() for i in range(1,13)]\n",
      "dataAODmen_Murcia = [len(df_out_Murcia[df_out_Murcia['month']==i]['AOT_500']) for i in range(1,13)]\n",
      "df_Murcia = pd.DataFrame({'AODmean_Murcia':aodMen_Murcia, 'number of AOD data':dataAODmen_Murcia })\n",
      "\n",
      "#Calculo de los Intervalos de Confianza del Bootstraping y la distribucion Normal\n",
      "lista_Murcia = [df_out_Murcia[df_out_Murcia['month']==i]['AOT_500'].values for i in range(1,13)]\n",
      "errlow, errhigh = [], []\n",
      "errlowN, errhighN = [], []\n",
      "for i in xrange(len(lista_Murcia)):\n",
      "    low_mean, high_mean, stat_mean = bootstrap(lista_Murcia[i], 10000, 0.05, np.mean)\n",
      "    errlow.append(low_mean)\n",
      "    errhigh.append(high_mean)\n",
      "    norm_mean = icnorm_media(lista_Murcia[i])\n",
      "    low_nmean = norm_mean.loc['ICm1'].values[0]\n",
      "    high_nmean = norm_mean.loc['ICm2'].values[0] \n",
      "    errlowN.append(low_nmean)\n",
      "    errhighN.append(high_nmean)\n",
      "df = df_Murcia.copy()\n",
      "df['errlo'], df['errhi'] = errlow, errhigh\n",
      "df['errloN'], df['errhiN'] = errlowN, errhighN \n",
      "\n",
      "\n",
      "pylab.figure(figsize=(17,5))\n",
      "## BOOTSTRAP\n",
      "#ax = df_Murcia.plot(y = 'AODmean_Murcia')\n",
      "ax = plt.subplot(121)\n",
      "ax.errorbar(range(12), df['AODmean_Murcia'], yerr=[list(df['AODmean_Murcia'] - df['errlo']), \n",
      "                                                   list(df['errhi'] - df['AODmean_Murcia'])], fmt='.-') \n",
      "#ax = df.errorbar(y = 'AODmean_Murcia')\n",
      "\n",
      "ax2 = df_Murcia['number of AOD data'].plot(kind = 'bar', secondary_y=True, color ='white', align='center')\n",
      "#ax2 =df_Murcia.plot(y = 'number of AOD data', secondary_y=True)\n",
      "\n",
      "##ax.set_ylabel(\"AOD monthly mean\", fontsize=12)\n",
      "ax2.set_ylabel(\"number of AOD data\", fontsize=12)\n",
      "\n",
      "#ax.set_ylim(-150,200)\n",
      "width = 0.3\n",
      "ind = np.arange(len(dataAODmen_Murcia))\n",
      "#rects1 = ax2.bar(ind, dataAODmen_Murcia, width, color='white', align='center')\n",
      "xTickMarks = ['jan', 'feb', 'mar', 'apr', 'may', 'jun', 'jul', 'aug', 'sep',\n",
      "           'oct', 'nov', 'dec']\n",
      "ax.set_xticks(ind)\n",
      "ax.set_ylim(0,0.25)\n",
      "ax2.set_ylim(0,1000)\n",
      "xtickNames = ax.set_xticklabels(xTickMarks)\n",
      "ax.set_xlim(-1,12)\n",
      "ax2.set_xlim(-1,12)\n",
      "            \n",
      "#bar_label(rects1, dataAODmen_Murcia)\n",
      "ax.set_title('Murcia2013 (Bootstrap)')\n",
      "\n",
      "## DISTRIBUCION NORMAL\n",
      "#ax = df_Murcia.plot(y = 'AODmean_Murcia')\n",
      "ax = plt.subplot(122)\n",
      "#ax.errorbar(range(12), df['AODmean_Murcia'], yerr=[list(df['errloN']), list(df['errhiN'])], fmt='.-')\n",
      "ax.errorbar(range(12), df['AODmean_Murcia'], yerr=[list(df['AODmean_Murcia'] - df['errloN']), \n",
      "                                                   list(df['errhiN'] - df['AODmean_Murcia'])], fmt='.-')\n",
      "df['AODmean_Murcia'] - pd.Series(errlowN)\n",
      "#ax = df.errorbar(y = 'AODmean_Murcia')\n",
      "\n",
      "ax2 = df_Murcia['number of AOD data'].plot(kind = 'bar', secondary_y=True, color ='white', align='center')\n",
      "#ax2 =df_Murcia.plot(y = 'number of AOD data', secondary_y=True)\n",
      "\n",
      "##ax.set_ylabel(\"AOD monthly mean\", fontsize=12)\n",
      "ax2.set_ylabel(\"number of AOD data\", fontsize=12)\n",
      "\n",
      "#ax.set_ylim(-150,200)\n",
      "width = 0.3\n",
      "ind = np.arange(len(dataAODmen_Murcia))\n",
      "#rects1 = ax2.bar(ind, dataAODmen_Murcia, width, color='white', align='center')\n",
      "xTickMarks = ['jan', 'feb', 'mar', 'apr', 'may', 'jun', 'jul', 'aug', 'sep',\n",
      "           'oct', 'nov', 'dec']\n",
      "ax.set_xticks(ind)\n",
      "ax.set_ylim(0,0.25)\n",
      "ax2.set_ylim(0,1000)\n",
      "xtickNames = ax.set_xticklabels(xTickMarks)\n",
      "ax.set_xlim(-1,12)\n",
      "ax2.set_xlim(-1,12)\n",
      "\n",
      "#bar_label(rects1, dataAODmen_Murcia)\n",
      "ax.set_title('Murcia2013 (D.Normal)')  \n"
     ],
     "language": "python",
     "metadata": {},
     "outputs": [
      {
       "metadata": {},
       "output_type": "pyout",
       "prompt_number": 126,
       "text": [
        "<matplotlib.text.Text at 0xa19d0aac>"
       ]
      },
      {
       "metadata": {},
       "output_type": "display_data",
       "png": "[encoded data removed]",
       "text": [
        "<matplotlib.figure.Figure at 0xa34248ac>"
       ]
      }
     ],
     "prompt_number": 126
    },
    {
     "cell_type": "code",
     "collapsed": false,
     "input": [
      "df['difflo'] = df['errlo'] - df['errloN']\n",
      "df['diffhi'] = df['errhi'] - df['errhiN']\n",
      "df['low%'] = df['difflo']/df['errlo'] *100\n",
      "df['high%'] = df['diffhi']/df['errhi'] *100\n",
      "df"
     ],
     "language": "python",
     "metadata": {},
     "outputs": [
      {
       "html": [
        "<div style=\"max-height:1000px;max-width:1500px;overflow:auto;\">\n",
        "<table border=\"1\" class=\"dataframe\">\n",
        "  <thead>\n",
        "    <tr style=\"text-align: right;\">\n",
        "      <th></th>\n",
        "      <th>AODmean_Murcia</th>\n",
        "      <th>number of AOD data</th>\n",
        "      <th>errlo</th>\n",
        "      <th>errhi</th>\n",
        "      <th>errloN</th>\n",
        "      <th>errhiN</th>\n",
        "      <th>difflo</th>\n",
        "      <th>diffhi</th>\n",
        "      <th>low%</th>\n",
        "      <th>high%</th>\n",
        "    </tr>\n",
        "  </thead>\n",
        "  <tbody>\n",
        "    <tr>\n",
        "      <th>0 </th>\n",
        "      <td> 0.038217</td>\n",
        "      <td>  93</td>\n",
        "      <td> 0.035027</td>\n",
        "      <td> 0.041524</td>\n",
        "      <td> 0.034957</td>\n",
        "      <td> 0.041478</td>\n",
        "      <td> 0.000070</td>\n",
        "      <td> 0.000046</td>\n",
        "      <td> 0.199257</td>\n",
        "      <td> 0.111201</td>\n",
        "    </tr>\n",
        "    <tr>\n",
        "      <th>1 </th>\n",
        "      <td> 0.058233</td>\n",
        "      <td> 130</td>\n",
        "      <td> 0.046285</td>\n",
        "      <td> 0.072213</td>\n",
        "      <td> 0.045114</td>\n",
        "      <td> 0.071351</td>\n",
        "      <td> 0.001170</td>\n",
        "      <td> 0.000862</td>\n",
        "      <td> 2.528530</td>\n",
        "      <td> 1.193655</td>\n",
        "    </tr>\n",
        "    <tr>\n",
        "      <th>2 </th>\n",
        "      <td> 0.056438</td>\n",
        "      <td> 111</td>\n",
        "      <td> 0.051080</td>\n",
        "      <td> 0.062295</td>\n",
        "      <td> 0.050783</td>\n",
        "      <td> 0.062094</td>\n",
        "      <td> 0.000297</td>\n",
        "      <td> 0.000202</td>\n",
        "      <td> 0.581952</td>\n",
        "      <td> 0.323727</td>\n",
        "    </tr>\n",
        "    <tr>\n",
        "      <th>3 </th>\n",
        "      <td> 0.100686</td>\n",
        "      <td> 104</td>\n",
        "      <td> 0.091661</td>\n",
        "      <td> 0.109878</td>\n",
        "      <td> 0.091460</td>\n",
        "      <td> 0.109913</td>\n",
        "      <td> 0.000202</td>\n",
        "      <td>-0.000035</td>\n",
        "      <td> 0.220095</td>\n",
        "      <td>-0.031409</td>\n",
        "    </tr>\n",
        "    <tr>\n",
        "      <th>4 </th>\n",
        "      <td> 0.131374</td>\n",
        "      <td> 164</td>\n",
        "      <td> 0.117693</td>\n",
        "      <td> 0.146025</td>\n",
        "      <td> 0.117305</td>\n",
        "      <td> 0.145442</td>\n",
        "      <td> 0.000388</td>\n",
        "      <td> 0.000582</td>\n",
        "      <td> 0.329999</td>\n",
        "      <td> 0.398830</td>\n",
        "    </tr>\n",
        "    <tr>\n",
        "      <th>5 </th>\n",
        "      <td> 0.158229</td>\n",
        "      <td> 267</td>\n",
        "      <td> 0.147127</td>\n",
        "      <td> 0.169958</td>\n",
        "      <td> 0.146711</td>\n",
        "      <td> 0.169747</td>\n",
        "      <td> 0.000416</td>\n",
        "      <td> 0.000212</td>\n",
        "      <td> 0.282713</td>\n",
        "      <td> 0.124510</td>\n",
        "    </tr>\n",
        "    <tr>\n",
        "      <th>6 </th>\n",
        "      <td> 0.184190</td>\n",
        "      <td> 330</td>\n",
        "      <td> 0.174862</td>\n",
        "      <td> 0.193464</td>\n",
        "      <td> 0.174849</td>\n",
        "      <td> 0.193532</td>\n",
        "      <td> 0.000013</td>\n",
        "      <td>-0.000068</td>\n",
        "      <td> 0.007507</td>\n",
        "      <td>-0.035213</td>\n",
        "    </tr>\n",
        "    <tr>\n",
        "      <th>7 </th>\n",
        "      <td> 0.207565</td>\n",
        "      <td> 224</td>\n",
        "      <td> 0.192622</td>\n",
        "      <td> 0.222925</td>\n",
        "      <td> 0.192609</td>\n",
        "      <td> 0.222520</td>\n",
        "      <td> 0.000013</td>\n",
        "      <td> 0.000405</td>\n",
        "      <td> 0.006719</td>\n",
        "      <td> 0.181662</td>\n",
        "    </tr>\n",
        "    <tr>\n",
        "      <th>8 </th>\n",
        "      <td> 0.175863</td>\n",
        "      <td> 139</td>\n",
        "      <td> 0.163208</td>\n",
        "      <td> 0.188771</td>\n",
        "      <td> 0.163047</td>\n",
        "      <td> 0.188679</td>\n",
        "      <td> 0.000161</td>\n",
        "      <td> 0.000092</td>\n",
        "      <td> 0.098583</td>\n",
        "      <td> 0.048950</td>\n",
        "    </tr>\n",
        "    <tr>\n",
        "      <th>9 </th>\n",
        "      <td> 0.137523</td>\n",
        "      <td> 147</td>\n",
        "      <td> 0.126527</td>\n",
        "      <td> 0.149015</td>\n",
        "      <td> 0.126236</td>\n",
        "      <td> 0.148810</td>\n",
        "      <td> 0.000291</td>\n",
        "      <td> 0.000204</td>\n",
        "      <td> 0.229853</td>\n",
        "      <td> 0.137114</td>\n",
        "    </tr>\n",
        "    <tr>\n",
        "      <th>10</th>\n",
        "      <td> 0.049802</td>\n",
        "      <td> 148</td>\n",
        "      <td> 0.046045</td>\n",
        "      <td> 0.053946</td>\n",
        "      <td> 0.045885</td>\n",
        "      <td> 0.053718</td>\n",
        "      <td> 0.000160</td>\n",
        "      <td> 0.000228</td>\n",
        "      <td> 0.347518</td>\n",
        "      <td> 0.422901</td>\n",
        "    </tr>\n",
        "    <tr>\n",
        "      <th>11</th>\n",
        "      <td> 0.100353</td>\n",
        "      <td>  75</td>\n",
        "      <td> 0.085129</td>\n",
        "      <td> 0.116248</td>\n",
        "      <td> 0.084689</td>\n",
        "      <td> 0.116016</td>\n",
        "      <td> 0.000441</td>\n",
        "      <td> 0.000231</td>\n",
        "      <td> 0.517845</td>\n",
        "      <td> 0.199105</td>\n",
        "    </tr>\n",
        "  </tbody>\n",
        "</table>\n",
        "<p>12 rows \u00d7 10 columns</p>\n",
        "</div>"
       ],
       "metadata": {},
       "output_type": "pyout",
       "prompt_number": 10,
       "text": [
        "    AODmean_Murcia  number of AOD data     errlo     errhi    errloN  \\\n",
        "0         0.038217                  93  0.035027  0.041524  0.034957   \n",
        "1         0.058233                 130  0.046285  0.072213  0.045114   \n",
        "2         0.056438                 111  0.051080  0.062295  0.050783   \n",
        "3         0.100686                 104  0.091661  0.109878  0.091460   \n",
        "4         0.131374                 164  0.117693  0.146025  0.117305   \n",
        "5         0.158229                 267  0.147127  0.169958  0.146711   \n",
        "6         0.184190                 330  0.174862  0.193464  0.174849   \n",
        "7         0.207565                 224  0.192622  0.222925  0.192609   \n",
        "8         0.175863                 139  0.163208  0.188771  0.163047   \n",
        "9         0.137523                 147  0.126527  0.149015  0.126236   \n",
        "10        0.049802                 148  0.046045  0.053946  0.045885   \n",
        "11        0.100353                  75  0.085129  0.116248  0.084689   \n",
        "\n",
        "      errhiN    difflo    diffhi      low%     high%  \n",
        "0   0.041478  0.000070  0.000046  0.199257  0.111201  \n",
        "1   0.071351  0.001170  0.000862  2.528530  1.193655  \n",
        "2   0.062094  0.000297  0.000202  0.581952  0.323727  \n",
        "3   0.109913  0.000202 -0.000035  0.220095 -0.031409  \n",
        "4   0.145442  0.000388  0.000582  0.329999  0.398830  \n",
        "5   0.169747  0.000416  0.000212  0.282713  0.124510  \n",
        "6   0.193532  0.000013 -0.000068  0.007507 -0.035213  \n",
        "7   0.222520  0.000013  0.000405  0.006719  0.181662  \n",
        "8   0.188679  0.000161  0.000092  0.098583  0.048950  \n",
        "9   0.148810  0.000291  0.000204  0.229853  0.137114  \n",
        "10  0.053718  0.000160  0.000228  0.347518  0.422901  \n",
        "11  0.116016  0.000441  0.000231  0.517845  0.199105  \n",
        "\n",
        "[12 rows x 10 columns]"
       ]
      }
     ],
     "prompt_number": 10
    },
    {
     "cell_type": "raw",
     "metadata": {},
     "source": [
      "http://nbviewer.ipython.org/github/mwaskom/seaborn/blob/master/examples/plotting_distributions.ipynb"
     ]
    },
    {
     "cell_type": "code",
     "collapsed": false,
     "input": [
      "bin = np.arange(0,0.75,0.01)\n",
      "#df_out_Murcia.hist(column='AOT_500', bins=bin)\n",
      "\n",
      "# best fit of data\n",
      "(mu, sigma) = norm.fit(df_out_Murcia['AOT_500'])\n",
      "print 'mu = ',mu, '\\n','sigma = ',sigma\n",
      "\n",
      "# the histogram of the data\n",
      "n, bins, patches = plt.hist(df_out_Murcia['AOT_500'], bin, normed=1, facecolor='green', alpha=1)\n",
      "\n",
      "# add a 'best fit' line\n",
      "y = mlab.normpdf( bins, mu, sigma)\n",
      "l = plt.plot(bins, y, 'r--', linewidth=2)\n",
      "\n",
      "#plot\n",
      "plt.xlabel('Smarts')\n",
      "plt.ylabel('Probability')\n",
      "plt.title(r'$\\mathrm{Histogram\\ of\\ IQ:}\\ \\mu=%.3f,\\ \\sigma=%.3f$' %(mu, sigma))\n",
      "plt.grid(True)"
     ],
     "language": "python",
     "metadata": {},
     "outputs": [
      {
       "output_type": "stream",
       "stream": "stdout",
       "text": [
        "mu =  0.133793077381 \n",
        "sigma =  0.0972062035356\n"
       ]
      },
      {
       "metadata": {},
       "output_type": "display_data",
       "png": "[encoded data removed]",
       "text": [
        "<matplotlib.figure.Figure at 0xa3cec0ec>"
       ]
      }
     ],
     "prompt_number": 11
    },
    {
     "cell_type": "code",
     "collapsed": false,
     "input": [
      "bin = np.arange(0,0.75,0.05)\n",
      "bin"
     ],
     "language": "python",
     "metadata": {},
     "outputs": [
      {
       "metadata": {},
       "output_type": "pyout",
       "prompt_number": 12,
       "text": [
        "array([ 0.  ,  0.05,  0.1 ,  0.15,  0.2 ,  0.25,  0.3 ,  0.35,  0.4 ,\n",
        "        0.45,  0.5 ,  0.55,  0.6 ,  0.65,  0.7 ])"
       ]
      }
     ],
     "prompt_number": 12
    },
    {
     "cell_type": "code",
     "collapsed": false,
     "input": [
      "import pylab as py\n",
      "import numpy as np\n",
      "from scipy import optimize\n",
      "from scipy.stats import norm\n",
      "from numpy import linspace\n",
      "from pylab import plot,show,hist\n",
      "\n",
      "\n",
      "# Generate a \n",
      "y = df_out_Murcia['AOT_500'].values\n",
      "data = py.hist(y, bins = bin)\n",
      "\n",
      "# Equation for Gaussian\n",
      "def f(x, a, b, c):\n",
      "    return a * py.exp(-(x - b)**2.0 / (2 * c**2))\n",
      "\n",
      "# Generate data from bins as a set of points \n",
      "x = [0.5 * (data[1][i] + data[1][i+1]) for i in xrange(len(data[1])-1)]\n",
      "y = data[0]\n",
      "\n",
      "popt, pcov = optimize.curve_fit(f, x, y)\n",
      "\n",
      "x_fit = py.linspace(x[0], x[-1], 100)\n",
      "y_fit = f(x_fit, *popt)\n",
      "\n",
      "(mu, sigma) = norm.fit(df_out_Murcia['AOT_500'])\n",
      "dx = data[1][1] - data[1][0]\n",
      "scale = len(df_out_Murcia['AOT_500'])*dx\n",
      "y_fit2 = mlab.normpdf(data[1], mu, sigma)*scale\n",
      "\n",
      "#param = norm.fit(df_out_Murcia['AOT_500']) # distribution fitting\n",
      "#pdf_fitted = norm.pdf(data[1],loc=param[0],scale=param[1])*scale\n",
      "\n",
      "plot(x_fit, y_fit, lw=4, color=\"r\")\n",
      "plot(data[1], y_fit2, lw=4, color=\"y\")\n",
      "#plot(data[1], pdf_fitted, lw=4, color=\"y\")\n",
      "\n",
      "##################################\n",
      "datos = df_out_Murcia['AOT_500']\n",
      "# distribution fitting\n",
      "param = norm.fit(datos)\n",
      "meand = param[0]\n",
      "sd = param[1]\n",
      "\n",
      "#Set large limits\n",
      "#xlims = [0, 6*sd+meand]\n",
      "\n",
      "#Plot histogram\n",
      "#histdata = hist(data,bins=50,alpha=.3,log=log)\n",
      "\n",
      "#Generate X points\n",
      "#x = linspace(xlims[0],xlims[1],500)\n",
      "x = linspace(0,0.8,500)\n",
      "\n",
      "#Get Y points via Normal PDF with fitted parameters\n",
      "pdf_fitted = norm.pdf(x,loc=meand,scale=sd)\n",
      "\n",
      "#Get histogram data, in this case bin edges\n",
      "#xh = [0.5 * (histdata[1][r] + histdata[1][r+1]) for r in xrange(len(histdata[1])-1)]\n",
      "xh = [0.5 * (data[1][r] + data[1][r+1]) for r in xrange(len(data[1])-1)]\n",
      "\n",
      "#Get bin width from this\n",
      "#binwidth = (max(xh) - min(xh)) / len(histdata[1])\n",
      "binwidth = (max(xh) - min(xh)) / len(data[1])\n",
      "\n",
      "#Scale the fitted PDF by area of the histogram\n",
      "#pdf_fitted = pdf_fitted * (len(data) * binwidth)\n",
      "pdf_fitted = pdf_fitted * (len(datos) * binwidth)\n",
      "\n",
      "#Plot PDF\n",
      "plot(x,pdf_fitted,'g-', lw=4,)"
     ],
     "language": "python",
     "metadata": {},
     "outputs": [
      {
       "metadata": {},
       "output_type": "pyout",
       "prompt_number": 13,
       "text": [
        "[<matplotlib.lines.Line2D at 0xa384f1cc>]"
       ]
      },
      {
       "metadata": {},
       "output_type": "display_data",
       "png": "[encoded data removed]",
       "text": [
        "<matplotlib.figure.Figure at 0xa38618ec>"
       ]
      }
     ],
     "prompt_number": 13
    },
    {
     "cell_type": "code",
     "collapsed": false,
     "input": [
      "from scipy.stats import norm\n",
      "from numpy import linspace\n",
      "from pylab import plot,show,hist\n",
      "\n",
      "def PlotHistNorm(data, log=False):\n",
      "    # distribution fitting\n",
      "    param = norm.fit(data)\n",
      "    mean = param[0]\n",
      "    sd = param[1]\n",
      "\n",
      "    #Set large limits\n",
      "    xlims = [0, 6*sd+mean]\n",
      "\n",
      "    #Plot histogram\n",
      "    histdata = hist(data,bins=50,alpha=.3,log=log)\n",
      "\n",
      "    #Generate X points\n",
      "    x = linspace(xlims[0],xlims[1],500)\n",
      "\n",
      "    #Get Y points via Normal PDF with fitted parameters\n",
      "    pdf_fitted = norm.pdf(x,loc=mean,scale=sd)\n",
      "\n",
      "    #Get histogram data, in this case bin edges\n",
      "    xh = [0.5 * (histdata[1][r] + histdata[1][r+1]) for r in xrange(len(histdata[1])-1)]\n",
      "\n",
      "    #Get bin width from this\n",
      "    binwidth = (max(xh) - min(xh)) / len(histdata[1])\n",
      "\n",
      "    #Scale the fitted PDF by area of the histogram\n",
      "    pdf_fitted = pdf_fitted * (len(data) * binwidth)\n",
      "\n",
      "    #Plot PDF\n",
      "    plot(x,pdf_fitted,'r-')\n",
      "    \n",
      "PlotHistNorm(df_out_Murcia['AOT_500'])"
     ],
     "language": "python",
     "metadata": {},
     "outputs": [
      {
       "metadata": {},
       "output_type": "display_data",
       "png": "[encoded data removed]",
       "text": [
        "<matplotlib.figure.Figure at 0xa386494c>"
       ]
      }
     ],
     "prompt_number": 14
    },
    {
     "cell_type": "code",
     "collapsed": false,
     "input": [
      "#from scipy.stats import norm\n",
      "import scipy.stats\n",
      "from numpy import linspace\n",
      "from pylab import plot,show,hist\n",
      "\n",
      "def PlotHist(data, log=False, bin=50, cdf=\"norm\"):\n",
      "    # distribution fitting\n",
      "    #param = norm.fit(data)\n",
      "    param = eval(\"scipy.stats.\"+cdf+\".fit(data)\")\n",
      "    mean = param[0]\n",
      "    sd = param[1]\n",
      "\n",
      "    #Set large limits\n",
      "    #xlims = [0, 6*sd+mean]\n",
      "    xlims = [0.0, 0.8]\n",
      "    \n",
      "    #Plot histogram\n",
      "    histdata = hist(data,bins=bin,alpha=.3,log=log)\n",
      "\n",
      "    #Generate X points\n",
      "    x = linspace(xlims[0],xlims[1],500)\n",
      "\n",
      "    #Get Y points via Normal PDF with fitted parameters\n",
      "    #pdf_fitted = eval(\"scipy.stats.\"+cdf+\".pdf(x,loc=mean,scale=sd)\")\n",
      "    #pdf_fitted = norm.pdf(x,loc=mean,scale=sd)\n",
      "\n",
      "    #Get histogram data, in this case bin edges\n",
      "    xh = [0.5 * (histdata[1][r] + histdata[1][r+1]) for r in xrange(len(histdata[1])-1)]\n",
      "    \n",
      "    #Get bin width from this\n",
      "    binwidth = (max(xh) - min(xh)) / len(histdata[1])\n",
      "\n",
      "    #Scale the fitted PDF by area of the histogram\n",
      "    #pdf_fitted = pdf_fitted * (len(data) * binwidth)\n",
      "    \n",
      "    #params = eval(\"scipy.stats.\"+cdf+\".fit(data)\")\n",
      "    fct = eval(\"scipy.stats.\"+cdf+\".freeze\"+str(param))\n",
      "    x = np.linspace(fct.ppf(0.001), fct.ppf(0.999), 500)\n",
      "    plt.plot(x, fct.pdf(x) *(len(data)*binwidth), lw=3, color='red')\n",
      "    plt.title(cdf)\n",
      "    #Plot PDF\n",
      "    #plot(x,pdf_fitted,'r-')\n",
      "    \n",
      "    #Kolmogorov\u2013Smirnov test\n",
      "    D, p = stats.kstest(data, cdf, args=param)\n",
      "    print cdf.ljust(16) + (\"p: \"+str(p)).ljust(25)+\"D: \"+str(D)\n",
      "    \n",
      "PlotHist(df_out_Murcia['AOT_500'], bin=np.arange(0,0.75,0.05), cdf=\"gamma\")"
     ],
     "language": "python",
     "metadata": {},
     "outputs": [
      {
       "output_type": "stream",
       "stream": "stdout",
       "text": [
        "gamma           p: 0.00283124308237      D: 0.0411124480063\n"
       ]
      },
      {
       "metadata": {},
       "output_type": "display_data",
       "png": "[encoded data removed]",
       "text": [
        "<matplotlib.figure.Figure at 0xa3717f8c>"
       ]
      }
     ],
     "prompt_number": 15
    },
    {
     "cell_type": "raw",
     "metadata": {},
     "source": [
      "%run distribution-check.py --verbose --plot --top 5"
     ]
    },
    {
     "cell_type": "code",
     "collapsed": false,
     "input": [
      "df_out_Murcia.to_csv('AOT_500.data', sep='\\n', cols=['AOT_500'], index=False,header=False)\n",
      "%run distribution-check.py --file AOT_500.data --verbose --plot --top 5"
     ],
     "language": "python",
     "metadata": {},
     "outputs": [
      {
       "output_type": "stream",
       "stream": "stdout",
       "text": [
        "reading data in file  AOT_500.data ... done\n",
        "norm            p: 0.0                   D: 0.114640502252\n",
        "alpha           p: 1.53350069976e-07     D: 0.0650028188067"
       ]
      },
      {
       "output_type": "stream",
       "stream": "stdout",
       "text": [
        "\n",
        "anglit          p: 0.0                   D: 0.364549723804\n",
        "arcsine         p: 0.0                   D: 0.486393320369"
       ]
      },
      {
       "output_type": "stream",
       "stream": "stdout",
       "text": [
        "\n",
        "beta            p: 0.00174873120718      D: 0.0425980046983"
       ]
      },
      {
       "output_type": "stream",
       "stream": "stdout",
       "text": [
        "\n",
        "bradford        p: 0.0                   D: 0.256359302595"
       ]
      },
      {
       "output_type": "stream",
       "stream": "stdout",
       "text": [
        "\n",
        "burr            p: 4.20104743326e-06     D: 0.058062001382"
       ]
      },
      {
       "output_type": "stream",
       "stream": "stdout",
       "text": [
        "\n",
        "cauchy          p: 0.0                   D: 0.190660891226\n",
        "chi             p: 6.9507281375e-07      D: 0.0619308705122"
       ]
      },
      {
       "output_type": "stream",
       "stream": "stdout",
       "text": [
        "\n",
        "chi2            p: 0.00283480192932      D: 0.0411085047774"
       ]
      },
      {
       "output_type": "stream",
       "stream": "stdout",
       "text": [
        "\n",
        "cosine          p: 0.0                   D: 0.278959751044\n",
        "dgamma          p: 0.0                   D: 0.133509671523"
       ]
      },
      {
       "output_type": "stream",
       "stream": "stdout",
       "text": [
        "\n",
        "dweibull        p: 0.0                   D: 0.138055346732"
       ]
      },
      {
       "output_type": "stream",
       "stream": "stdout",
       "text": [
        "\n",
        "erlang          p: 0.00285707338343      D: 0.0410839311871"
       ]
      },
      {
       "output_type": "stream",
       "stream": "stdout",
       "text": [
        "\n",
        "expon           p: 4.34815523809e-07     D: 0.0629004761541\n",
        "exponweib       p: 0.00154939869263      D: 0.0429630756473"
       ]
      },
      {
       "output_type": "stream",
       "stream": "stdout",
       "text": [
        "\n",
        "exponpow        p: 0.000299903298606     D: 0.047641032884"
       ]
      },
      {
       "output_type": "stream",
       "stream": "stdout",
       "text": [
        "\n",
        "fatiguelife     p: 1.3189887671e-07      D: 0.0653011757015"
       ]
      },
      {
       "output_type": "stream",
       "stream": "stdout",
       "text": [
        "\n",
        "foldcauchy      p: 0.0                   D: 0.103338922913"
       ]
      },
      {
       "output_type": "stream",
       "stream": "stdout",
       "text": [
        "\n",
        "f               p: 0.00260687038469      D: 0.0413707980624"
       ]
      },
      {
       "output_type": "stream",
       "stream": "stdout",
       "text": [
        "\n",
        "fisk            p: 1.31516803359e-06     D: 0.0605878248624"
       ]
      },
      {
       "output_type": "stream",
       "stream": "stdout",
       "text": [
        "\n",
        "foldnorm        p: 1.67422545228e-06     D: 0.0600716006394"
       ]
      },
      {
       "output_type": "stream",
       "stream": "stdout",
       "text": [
        "\n",
        "frechet_r       p: 0.00145578006317      D: 0.0431498763808"
       ]
      },
      {
       "output_type": "stream",
       "stream": "stdout",
       "text": [
        "\n",
        "frechet_l       p: 2.2362112162e-12      D: 0.0842437987668"
       ]
      },
      {
       "output_type": "stream",
       "stream": "stdout",
       "text": [
        "\n",
        "gamma           p: 0.00283124308237      D: 0.0411124480063"
       ]
      },
      {
       "output_type": "stream",
       "stream": "stdout",
       "text": [
        "\n",
        "gausshyper      p: 0.00174863095189      D: 0.0425981783821"
       ]
      },
      {
       "output_type": "stream",
       "stream": "stdout",
       "text": [
        "\n",
        "genexpon        p: 0.00522991086298      D: 0.0391388584974"
       ]
      },
      {
       "output_type": "stream",
       "stream": "stdout",
       "text": [
        "\n",
        "genextreme      p: 7.46591366507e-09     D: 0.0707463385318"
       ]
      },
      {
       "output_type": "stream",
       "stream": "stdout",
       "text": [
        "\n",
        "gengamma        p: 0.00173549214553      D: 0.0426210206844"
       ]
      },
      {
       "output_type": "stream",
       "stream": "stdout",
       "text": [
        "\n",
        "genlogistic     p: 3.27871063632e-12     D: 0.0836563578402"
       ]
      },
      {
       "output_type": "stream",
       "stream": "stdout",
       "text": [
        "\n",
        "genpareto       p: 0.000161381017828     D: 0.0492910699063"
       ]
      },
      {
       "output_type": "stream",
       "stream": "stdout",
       "text": [
        "\n",
        "genhalflogistic p: 0.0                   D: 0.103465037922"
       ]
      },
      {
       "output_type": "stream",
       "stream": "stdout",
       "text": [
        "\n",
        "gilbrat         p: 4.17701938593e-07     D: 0.0629827778118\n",
        "gompertz        p: 0.00166379117465      D: 0.0427485799438"
       ]
      },
      {
       "output_type": "stream",
       "stream": "stdout",
       "text": [
        "\n",
        "gumbel_l        p: 0.0                   D: 0.232945884448\n",
        "gumbel_r        p: 2.38165043243e-12     D: 0.0841472765196\n",
        "halfcauchy      p: 0.0                   D: 0.132122138901"
       ]
      },
      {
       "output_type": "stream",
       "stream": "stdout",
       "text": [
        "\n",
        "halflogistic    p: 0.00776902568458      D: 0.0378115746565\n",
        "halfnorm        p: 1.67275485863e-06     D: 0.0600734879966"
       ]
      },
      {
       "output_type": "stream",
       "stream": "stdout",
       "text": [
        "\n",
        "hypsecant       p: 0.0                   D: 0.133609225066\n",
        "invgamma        p: 1.66294418236e-08     D: 0.0692710234648"
       ]
      },
      {
       "output_type": "stream",
       "stream": "stdout",
       "text": [
        "\n",
        "invgauss        p: 2.42004956075e-08     D: 0.0685688651424"
       ]
      },
      {
       "output_type": "stream",
       "stream": "stdout",
       "text": [
        "\n",
        "invweibull      p: 7.47727502137e-09     D: 0.0707435664257"
       ]
      },
      {
       "output_type": "stream",
       "stream": "stdout",
       "text": [
        "\n",
        "johnsonsb       p: 0.000467616847776     D: 0.0464222215081"
       ]
      },
      {
       "output_type": "stream",
       "stream": "stdout",
       "text": [
        "\n",
        "johnsonsu       p: 5.20473306675e-08     D: 0.0671128975086"
       ]
      },
      {
       "output_type": "stream",
       "stream": "stdout",
       "text": [
        "\n",
        "laplace         p: 0.0                   D: 0.149509162681\n",
        "logistic        p: 0.0                   D: 0.12335921054\n",
        "loggamma        p: 0.0                   D: 0.119952916166"
       ]
      },
      {
       "output_type": "stream",
       "stream": "stdout",
       "text": [
        "\n",
        "loglaplace      p: 3.19699822171e-12     D: 0.0836951376216"
       ]
      },
      {
       "output_type": "stream",
       "stream": "stdout",
       "text": [
        "\n",
        "lognorm         p: 6.92199089158e-08     D: 0.0665626150331"
       ]
      },
      {
       "output_type": "stream",
       "stream": "stdout",
       "text": [
        "\n",
        "lomax           p: 3.76555964188e-08     D: 0.0677321199985"
       ]
      },
      {
       "output_type": "stream",
       "stream": "stdout",
       "text": [
        "\n",
        "maxwell         p: 0.0                   D: 0.118442432867\n",
        "mielke          p: 7.31135679555e-07     D: 0.0618254078881"
       ]
      },
      {
       "output_type": "stream",
       "stream": "stdout",
       "text": [
        "\n",
        "nakagami        p: 0.0                   D: 0.100906486093"
       ]
      },
      {
       "output_type": "stream",
       "stream": "stdout",
       "text": [
        "\n",
        "ncx2            p: 0.00196227434788      D: 0.0422475296396"
       ]
      },
      {
       "output_type": "stream",
       "stream": "stdout",
       "text": [
        "\n",
        "ncf             p: 0.0                   D: 0.112095441946"
       ]
      },
      {
       "output_type": "stream",
       "stream": "stdout",
       "text": [
        "\n",
        "nct             p: 3.83808207438e-09     D: 0.0719490401463"
       ]
      },
      {
       "output_type": "stream",
       "stream": "stdout",
       "text": [
        "\n",
        "pareto          p: 0.0                   D: 1.0\n",
        "powerlaw        p: 0.0                   D: 0.286959764202"
       ]
      },
      {
       "output_type": "stream",
       "stream": "stdout",
       "text": [
        "\n",
        "powerlognorm    p: 3.23337500108e-07     D: 0.0635051235657"
       ]
      },
      {
       "output_type": "stream",
       "stream": "stdout",
       "text": [
        "\n",
        "powernorm       p: 0.0                   D: 1.0"
       ]
      },
      {
       "output_type": "stream",
       "stream": "stdout",
       "text": [
        "\n",
        "rdist           p: 0.0                   D: 0.501837385039"
       ]
      },
      {
       "output_type": "stream",
       "stream": "stdout",
       "text": [
        "\n",
        "reciprocal      p: 0.0                   D: 1.0\n",
        "rayleigh        p: 0.0                   D: 0.125785394612\n",
        "rice            p: 0.0                   D: 0.125717472072"
       ]
      },
      {
       "output_type": "stream",
       "stream": "stdout",
       "text": [
        "\n",
        "recipinvgauss   p: 2.65322244331e-06     D: 0.0590744160431"
       ]
      },
      {
       "output_type": "stream",
       "stream": "stdout",
       "text": [
        "\n",
        "semicircular    p: 0.0                   D: 0.452647602504\n",
        "t               p: 0.0                   D: 0.11906490016"
       ]
      },
      {
       "output_type": "stream",
       "stream": "stdout",
       "text": [
        "\n",
        "triang          p: 0.0                   D: 0.310519488047"
       ]
      },
      {
       "output_type": "stream",
       "stream": "stdout",
       "text": [
        "\n",
        "truncexpon      p: 0.0                   D: 0.299255154297"
       ]
      },
      {
       "output_type": "stream",
       "stream": "stdout",
       "text": [
        "\n",
        "truncnorm       p: 0.0                   D: 1.0\n",
        "tukeylambda     p: 0.0                   D: 0.155886496355"
       ]
      },
      {
       "output_type": "stream",
       "stream": "stdout",
       "text": [
        "\n",
        "uniform         p: 0.0                   D: 0.5261846497"
       ]
      },
      {
       "output_type": "stream",
       "stream": "stdout",
       "text": [
        "\n",
        "vonmises        p: nan                   D: 1.65239606277e+29"
       ]
      },
      {
       "output_type": "stream",
       "stream": "stdout",
       "text": [
        "\n",
        "wald            p: 5.74215652804e-09     D: 0.0712232788415\n",
        "weibull_min     p: 0.00145578006317      D: 0.0431498763808"
       ]
      },
      {
       "output_type": "stream",
       "stream": "stdout",
       "text": [
        "\n",
        "weibull_max     p: 2.2362112162e-12      D: 0.0842437987668"
       ]
      },
      {
       "output_type": "stream",
       "stream": "stdout",
       "text": [
        "\n",
        "wrapcauchy      p: nan                   D: nan\n",
        "ksone           p: 0.0                   D: 0.515071425686"
       ]
      },
      {
       "output_type": "stream",
       "stream": "stdout",
       "text": [
        "\n",
        "kstwobign       p: 1.33226762955e-15     D: 0.0948310661584"
       ]
      },
      {
       "output_type": "stream",
       "stream": "stdout",
       "text": [
        "\n",
        "-------------------------------------------------------------------\n",
        "Top 5\n",
        "-------------------------------------------------------------------\n",
        "1    halflogistic     \tp:  0.00776902568458 \tD:  0.0378115746565\n",
        "2    genexpon         \tp:  0.00522991086298 \tD:  0.0391388584974\n",
        "3    erlang           \tp:  0.00285707338343 \tD:  0.0410839311871\n",
        "4    chi2             \tp:  0.00283480192932 \tD:  0.0411085047774\n",
        "5    gamma            \tp:  0.00283124308237 \tD:  0.0411124480063\n",
        "halflogistic"
       ]
      },
      {
       "output_type": "stream",
       "stream": "stdout",
       "text": [
        "\n",
        "genexpon\n",
        "erlang"
       ]
      },
      {
       "output_type": "stream",
       "stream": "stdout",
       "text": [
        "\n",
        "chi2"
       ]
      },
      {
       "output_type": "stream",
       "stream": "stdout",
       "text": [
        "\n",
        "gamma"
       ]
      },
      {
       "output_type": "stream",
       "stream": "stdout",
       "text": [
        "\n"
       ]
      },
      {
       "metadata": {},
       "output_type": "display_data",
       "png": "[encoded data removed]",
       "text": [
        "<matplotlib.figure.Figure at 0xa356b2cc>"
       ]
      }
     ],
     "prompt_number": 17
    },
    {
     "cell_type": "code",
     "collapsed": false,
     "input": [
      "df_out_Murcia.to_csv('AOT_500.data', sep='\\n', cols=['AOT_500'], index=False,header=False)\n",
      "%run distribution-check-2n.py --file AOT_500.data --verbose --plot --top 5"
     ],
     "language": "python",
     "metadata": {},
     "outputs": [
      {
       "output_type": "stream",
       "stream": "stdout",
       "text": [
        "reading data in file  AOT_500.data ... done\n",
        "norm            p: 0.0                   D: 0.114640502252\n",
        "beta            p: 0.00174873120718      D: 0.0425980046983"
       ]
      },
      {
       "output_type": "stream",
       "stream": "stdout",
       "text": [
        "\n",
        "chi             p: 6.9507281375e-07      D: 0.0619308705122"
       ]
      },
      {
       "output_type": "stream",
       "stream": "stdout",
       "text": [
        "\n",
        "chi2            p: 0.00283480192932      D: 0.0411085047774"
       ]
      },
      {
       "output_type": "stream",
       "stream": "stdout",
       "text": [
        "\n",
        "gamma           p: 0.00283124308237      D: 0.0411124480063"
       ]
      },
      {
       "output_type": "stream",
       "stream": "stdout",
       "text": [
        "\n",
        "t               p: 0.0                   D: 0.11906490016"
       ]
      },
      {
       "output_type": "stream",
       "stream": "stdout",
       "text": [
        "\n",
        "uniform         p: 0.0                   D: 0.5261846497"
       ]
      },
      {
       "output_type": "stream",
       "stream": "stdout",
       "text": [
        "\n",
        "ksone           p: 0.0                   D: 0.515071425686"
       ]
      },
      {
       "output_type": "stream",
       "stream": "stdout",
       "text": [
        "\n",
        "kstwobign       p: 1.33226762955e-15     D: 0.0948310661584"
       ]
      },
      {
       "output_type": "stream",
       "stream": "stdout",
       "text": [
        "\n",
        "-------------------------------------------------------------------\n",
        "Top 5\n",
        "-------------------------------------------------------------------\n",
        "1    chi2             \tp:  0.00283480192932 \tD:  0.0411085047774\n",
        "2    gamma            \tp:  0.00283124308237 \tD:  0.0411124480063\n",
        "3    beta             \tp:  0.00174873120718 \tD:  0.0425980046983\n",
        "4    chi              \tp:  6.9507281375e-07 \tD:  0.0619308705122\n",
        "5    kstwobign        \tp:  1.33226762955e-15 \tD:  0.0948310661584\n"
       ]
      },
      {
       "metadata": {},
       "output_type": "display_data",
       "png": "[encoded data removed]",
       "text": [
        "<matplotlib.figure.Figure at 0xad8be1ac>"
       ]
      }
     ],
     "prompt_number": 21
    },
    {
     "cell_type": "code",
     "collapsed": false,
     "input": [
      "import scipy.stats as stats\n",
      "stats.probplot(df_out_Murcia['AOT_500'], dist=\"norm\", plot=pylab)"
     ],
     "language": "python",
     "metadata": {},
     "outputs": []
    },
    {
     "cell_type": "code",
     "collapsed": false,
     "input": [
      "file_aeronet_Murcia = '/spred/pn32/Renovables/Red/Aeronet/lev15/130101_131231_Murcia.lev15'\n",
      "df_out_Murcia_2 = extract_aeronet_data(file_aeronet_Murcia)\n",
      "df_out_Murcia_2['month'] = df_out_Murcia_2.index.month\n",
      "df_out_Murcia_2['day'] = df_out_Murcia_2.index.day\n",
      "# Diary mean\n",
      "df_out_Murcia_2 = df_out_Murcia_2.resample('D', how='mean').dropna()\n",
      "#df_out_Murcia_2 = df_out_Murcia_2.resample('D', how='mean').dropna(subset = ['AOT_500'])\n",
      "\n",
      "\n",
      "aodMen_Murcia = [df_out_Murcia_2[df_out_Murcia_2['month']==i]['AOT_500'].mean() for i in range(1,13)]\n",
      "dataAODmen_Murcia = [len(df_out_Murcia_2[df_out_Murcia_2['month']==i]['AOT_500']) for i in range(1,13)]\n",
      "df_Murcia_2 = pd.DataFrame({'AODmean_Murcia':aodMen_Murcia, 'number of AOD data':dataAODmen_Murcia })\n",
      "\n",
      "x = df_out_Murcia_2['AOT_500'].values\n",
      "\n",
      "#Calculo de los Intervalos de Confianza del Bootstraping y la distribucion Normal\n",
      "lista_Murcia = [df_out_Murcia_2[df_out_Murcia_2['month']==i]['AOT_500'].values for i in range(1,13)]\n",
      "errlow, errhigh = [], []\n",
      "errlowN, errhighN = [], []\n",
      "for i in xrange(len(lista_Murcia)):\n",
      "    low_mean, high_mean, stat_mean = bootstrap(lista_Murcia[i], 10000, 0.05, np.mean)\n",
      "    errlow.append(low_mean)\n",
      "    errhigh.append(high_mean)\n",
      "    norm_mean = icnorm_media(lista_Murcia[i])\n",
      "    low_nmean = norm_mean.loc['ICm1'].values[0]\n",
      "    high_nmean = norm_mean.loc['ICm2'].values[0] \n",
      "    errlowN.append(low_nmean)\n",
      "    errhighN.append(high_nmean)\n",
      "df_2 = df_Murcia_2.copy()\n",
      "df_2['errlo'], df_2['errhi'] = errlow, errhigh\n",
      "df_2['errloN'], df_2['errhiN'] = errlowN, errhighN\n",
      "\n",
      "df_2['difflo'] = df_2['errlo'] - df_2['errloN']\n",
      "df_2['diffhi'] = df_2['errhi'] - df_2['errhiN']\n",
      "df_2['low%'] = df_2['difflo']/df_2['errlo'] *100\n",
      "df_2['high%'] = df_2['diffhi']/df_2['errhi'] *100\n",
      "df_2"
     ],
     "language": "python",
     "metadata": {},
     "outputs": [
      {
       "html": [
        "<div style=\"max-height:1000px;max-width:1500px;overflow:auto;\">\n",
        "<table border=\"1\" class=\"dataframe\">\n",
        "  <thead>\n",
        "    <tr style=\"text-align: right;\">\n",
        "      <th></th>\n",
        "      <th>AODmean_Murcia</th>\n",
        "      <th>number of AOD data</th>\n",
        "      <th>errlo</th>\n",
        "      <th>errhi</th>\n",
        "      <th>errloN</th>\n",
        "      <th>errhiN</th>\n",
        "      <th>difflo</th>\n",
        "      <th>diffhi</th>\n",
        "      <th>low%</th>\n",
        "      <th>high%</th>\n",
        "    </tr>\n",
        "  </thead>\n",
        "  <tbody>\n",
        "    <tr>\n",
        "      <th>0 </th>\n",
        "      <td> 0.038550</td>\n",
        "      <td> 16</td>\n",
        "      <td> 0.031667</td>\n",
        "      <td> 0.046032</td>\n",
        "      <td> 0.030383</td>\n",
        "      <td> 0.046716</td>\n",
        "      <td> 0.001284</td>\n",
        "      <td>-0.000684</td>\n",
        "      <td>  4.053759</td>\n",
        "      <td>-1.485369</td>\n",
        "    </tr>\n",
        "    <tr>\n",
        "      <th>1 </th>\n",
        "      <td> 0.063014</td>\n",
        "      <td> 19</td>\n",
        "      <td> 0.037404</td>\n",
        "      <td> 0.104114</td>\n",
        "      <td> 0.024768</td>\n",
        "      <td> 0.101260</td>\n",
        "      <td> 0.012636</td>\n",
        "      <td> 0.002854</td>\n",
        "      <td> 33.782696</td>\n",
        "      <td> 2.740992</td>\n",
        "    </tr>\n",
        "    <tr>\n",
        "      <th>2 </th>\n",
        "      <td> 0.056433</td>\n",
        "      <td> 15</td>\n",
        "      <td> 0.042444</td>\n",
        "      <td> 0.074031</td>\n",
        "      <td> 0.038558</td>\n",
        "      <td> 0.074308</td>\n",
        "      <td> 0.003886</td>\n",
        "      <td>-0.000277</td>\n",
        "      <td>  9.154875</td>\n",
        "      <td>-0.374391</td>\n",
        "    </tr>\n",
        "    <tr>\n",
        "      <th>3 </th>\n",
        "      <td> 0.099716</td>\n",
        "      <td> 13</td>\n",
        "      <td> 0.076393</td>\n",
        "      <td> 0.123192</td>\n",
        "      <td> 0.072339</td>\n",
        "      <td> 0.127093</td>\n",
        "      <td> 0.004054</td>\n",
        "      <td>-0.003902</td>\n",
        "      <td>  5.307393</td>\n",
        "      <td>-3.167228</td>\n",
        "    </tr>\n",
        "    <tr>\n",
        "      <th>4 </th>\n",
        "      <td> 0.129985</td>\n",
        "      <td> 18</td>\n",
        "      <td> 0.096663</td>\n",
        "      <td> 0.167107</td>\n",
        "      <td> 0.090491</td>\n",
        "      <td> 0.169478</td>\n",
        "      <td> 0.006172</td>\n",
        "      <td>-0.002372</td>\n",
        "      <td>  6.385223</td>\n",
        "      <td>-1.419186</td>\n",
        "    </tr>\n",
        "    <tr>\n",
        "      <th>5 </th>\n",
        "      <td> 0.161463</td>\n",
        "      <td> 25</td>\n",
        "      <td> 0.129836</td>\n",
        "      <td> 0.200380</td>\n",
        "      <td> 0.123868</td>\n",
        "      <td> 0.199057</td>\n",
        "      <td> 0.005968</td>\n",
        "      <td> 0.001323</td>\n",
        "      <td>  4.596388</td>\n",
        "      <td> 0.660289</td>\n",
        "    </tr>\n",
        "    <tr>\n",
        "      <th>6 </th>\n",
        "      <td> 0.186645</td>\n",
        "      <td> 29</td>\n",
        "      <td> 0.157055</td>\n",
        "      <td> 0.215546</td>\n",
        "      <td> 0.155805</td>\n",
        "      <td> 0.217486</td>\n",
        "      <td> 0.001250</td>\n",
        "      <td>-0.001940</td>\n",
        "      <td>  0.795852</td>\n",
        "      <td>-0.900063</td>\n",
        "    </tr>\n",
        "    <tr>\n",
        "      <th>7 </th>\n",
        "      <td> 0.217589</td>\n",
        "      <td> 24</td>\n",
        "      <td> 0.174256</td>\n",
        "      <td> 0.261194</td>\n",
        "      <td> 0.170643</td>\n",
        "      <td> 0.264536</td>\n",
        "      <td> 0.003613</td>\n",
        "      <td>-0.003342</td>\n",
        "      <td>  2.073378</td>\n",
        "      <td>-1.279383</td>\n",
        "    </tr>\n",
        "    <tr>\n",
        "      <th>8 </th>\n",
        "      <td> 0.176782</td>\n",
        "      <td> 17</td>\n",
        "      <td> 0.142888</td>\n",
        "      <td> 0.211818</td>\n",
        "      <td> 0.138107</td>\n",
        "      <td> 0.215456</td>\n",
        "      <td> 0.004780</td>\n",
        "      <td>-0.003638</td>\n",
        "      <td>  3.345318</td>\n",
        "      <td>-1.717630</td>\n",
        "    </tr>\n",
        "    <tr>\n",
        "      <th>9 </th>\n",
        "      <td> 0.138072</td>\n",
        "      <td> 21</td>\n",
        "      <td> 0.111141</td>\n",
        "      <td> 0.165550</td>\n",
        "      <td> 0.108281</td>\n",
        "      <td> 0.167864</td>\n",
        "      <td> 0.002860</td>\n",
        "      <td>-0.002314</td>\n",
        "      <td>  2.573099</td>\n",
        "      <td>-1.397715</td>\n",
        "    </tr>\n",
        "    <tr>\n",
        "      <th>10</th>\n",
        "      <td> 0.050707</td>\n",
        "      <td> 21</td>\n",
        "      <td> 0.042554</td>\n",
        "      <td> 0.061572</td>\n",
        "      <td> 0.040157</td>\n",
        "      <td> 0.061257</td>\n",
        "      <td> 0.002398</td>\n",
        "      <td> 0.000316</td>\n",
        "      <td>  5.634314</td>\n",
        "      <td> 0.512522</td>\n",
        "    </tr>\n",
        "    <tr>\n",
        "      <th>11</th>\n",
        "      <td> 0.099041</td>\n",
        "      <td> 12</td>\n",
        "      <td> 0.061687</td>\n",
        "      <td> 0.137344</td>\n",
        "      <td> 0.054787</td>\n",
        "      <td> 0.143295</td>\n",
        "      <td> 0.006900</td>\n",
        "      <td>-0.005952</td>\n",
        "      <td> 11.185891</td>\n",
        "      <td>-4.333359</td>\n",
        "    </tr>\n",
        "  </tbody>\n",
        "</table>\n",
        "<p>12 rows \u00d7 10 columns</p>\n",
        "</div>"
       ],
       "metadata": {},
       "output_type": "pyout",
       "prompt_number": 137,
       "text": [
        "    AODmean_Murcia  number of AOD data     errlo     errhi    errloN  \\\n",
        "0         0.038550                  16  0.031667  0.046032  0.030383   \n",
        "1         0.063014                  19  0.037404  0.104114  0.024768   \n",
        "2         0.056433                  15  0.042444  0.074031  0.038558   \n",
        "3         0.099716                  13  0.076393  0.123192  0.072339   \n",
        "4         0.129985                  18  0.096663  0.167107  0.090491   \n",
        "5         0.161463                  25  0.129836  0.200380  0.123868   \n",
        "6         0.186645                  29  0.157055  0.215546  0.155805   \n",
        "7         0.217589                  24  0.174256  0.261194  0.170643   \n",
        "8         0.176782                  17  0.142888  0.211818  0.138107   \n",
        "9         0.138072                  21  0.111141  0.165550  0.108281   \n",
        "10        0.050707                  21  0.042554  0.061572  0.040157   \n",
        "11        0.099041                  12  0.061687  0.137344  0.054787   \n",
        "\n",
        "      errhiN    difflo    diffhi       low%     high%  \n",
        "0   0.046716  0.001284 -0.000684   4.053759 -1.485369  \n",
        "1   0.101260  0.012636  0.002854  33.782696  2.740992  \n",
        "2   0.074308  0.003886 -0.000277   9.154875 -0.374391  \n",
        "3   0.127093  0.004054 -0.003902   5.307393 -3.167228  \n",
        "4   0.169478  0.006172 -0.002372   6.385223 -1.419186  \n",
        "5   0.199057  0.005968  0.001323   4.596388  0.660289  \n",
        "6   0.217486  0.001250 -0.001940   0.795852 -0.900063  \n",
        "7   0.264536  0.003613 -0.003342   2.073378 -1.279383  \n",
        "8   0.215456  0.004780 -0.003638   3.345318 -1.717630  \n",
        "9   0.167864  0.002860 -0.002314   2.573099 -1.397715  \n",
        "10  0.061257  0.002398  0.000316   5.634314  0.512522  \n",
        "11  0.143295  0.006900 -0.005952  11.185891 -4.333359  \n",
        "\n",
        "[12 rows x 10 columns]"
       ]
      }
     ],
     "prompt_number": 137
    },
    {
     "cell_type": "code",
     "collapsed": false,
     "input": [
      "pylab.figure(figsize=(17,5))\n",
      "## BOOTSTRAP\n",
      "#ax = df_Murcia_2.plot(y = 'AODmean_Murcia')\n",
      "ax = plt.subplot(121)\n",
      "ax.errorbar(range(12), df_2['AODmean_Murcia'], yerr=[list(df_2['AODmean_Murcia'] - df_2['errlo']), \n",
      "                                                   list(df_2['errhi'] - df_2['AODmean_Murcia'])], fmt='.-') \n",
      "#ax = df_2.errorbar(y = 'AODmean_Murcia')\n",
      "\n",
      "ax2 = df_Murcia_2['number of AOD data'].plot(kind = 'bar', secondary_y=True, color ='white', align='center')\n",
      "#ax2 =df_Murcia_2.plot(y = 'number of AOD data', secondary_y=True)\n",
      "\n",
      "##ax.set_ylabel(\"AOD monthly mean\", fontsize=12)\n",
      "ax2.set_ylabel(\"number of AOD data\", fontsize=12)\n",
      "\n",
      "#ax.set_ylim(-150,200)\n",
      "width = 0.3\n",
      "ind = np.arange(len(dataAODmen_Murcia))\n",
      "#rects1 = ax2.bar(ind, dataAODmen_Murcia, width, color='white', align='center')\n",
      "xTickMarks = ['jan', 'feb', 'mar', 'apr', 'may', 'jun', 'jul', 'aug', 'sep',\n",
      "           'oct', 'nov', 'dec']\n",
      "ax.set_xticks(ind)\n",
      "ax.set_ylim(0,0.30)\n",
      "ax2.set_ylim(0,200)\n",
      "xtickNames = ax.set_xticklabels(xTickMarks)\n",
      "ax.set_xlim(-1,12)\n",
      "ax2.set_xlim(-1,12)\n",
      "            \n",
      "#bar_label(rects1, dataAODmen_Murcia)\n",
      "ax.set_title('Murcia2013 (Bootstrap)')\n",
      "\n",
      "## DISTRIBUCION NORMAL\n",
      "#ax = df_Murcia_2.plot(y = 'AODmean_Murcia')\n",
      "ax = plt.subplot(122)\n",
      "#ax.errorbar(range(12), df_2['AODmean_Murcia'], yerr=[list(df_2['errloN']), list(df_2['errhiN'])], fmt='.-')\n",
      "ax.errorbar(range(12), df_2['AODmean_Murcia'], yerr=[list(df_2['AODmean_Murcia'] - df_2['errloN']), \n",
      "                                                   list(df_2['errhiN'] - df_2['AODmean_Murcia'])], fmt='.-')\n",
      "df_2['AODmean_Murcia'] - pd.Series(errlowN)\n",
      "#ax = df_2.errorbar(y = 'AODmean_Murcia')\n",
      "\n",
      "ax2 = df_Murcia_2['number of AOD data'].plot(kind = 'bar', secondary_y=True, color ='white', align='center')\n",
      "#ax2 =df_Murcia_2.plot(y = 'number of AOD data', secondary_y=True)\n",
      "\n",
      "##ax.set_ylabel(\"AOD monthly mean\", fontsize=12)\n",
      "ax2.set_ylabel(\"number of AOD data\", fontsize=12)\n",
      "\n",
      "#ax.set_ylim(-150,200)\n",
      "width = 0.3\n",
      "ind = np.arange(len(dataAODmen_Murcia))\n",
      "#rects1 = ax2.bar(ind, dataAODmen_Murcia, width, color='white', align='center')\n",
      "xTickMarks = ['jan', 'feb', 'mar', 'apr', 'may', 'jun', 'jul', 'aug', 'sep',\n",
      "           'oct', 'nov', 'dec']\n",
      "ax.set_xticks(ind)\n",
      "ax.set_ylim(0,0.30)\n",
      "ax2.set_ylim(0,200)\n",
      "xtickNames = ax.set_xticklabels(xTickMarks)\n",
      "ax.set_xlim(-1,12)\n",
      "ax2.set_xlim(-1,12)\n",
      "\n",
      "#bar_label(rects1, dataAODmen_Murcia)\n",
      "ax.set_title('Murcia2013 (D.Normal)')\n",
      "\n"
     ],
     "language": "python",
     "metadata": {},
     "outputs": [
      {
       "metadata": {},
       "output_type": "pyout",
       "prompt_number": 139,
       "text": [
        "<matplotlib.text.Text at 0xa0b3b2ac>"
       ]
      },
      {
       "metadata": {},
       "output_type": "display_data",
       "png": "[encoded data removed]",
       "text": [
        "<matplotlib.figure.Figure at 0xa13e562c>"
       ]
      }
     ],
     "prompt_number": 139
    },
    {
     "cell_type": "code",
     "collapsed": false,
     "input": [
      "df_out_Murcia_2.to_csv('AOT_500_2.data', sep='\\n', cols=['AOT_500'], index=False,header=False)\n",
      "%run distribution-check.py --file AOT_500_2.data --verbose --plot --top 5"
     ],
     "language": "python",
     "metadata": {},
     "outputs": [
      {
       "output_type": "stream",
       "stream": "stdout",
       "text": [
        "reading data in file  AOT_500_2.data ... done\n",
        "norm            p: 0.000302973049927     D: 0.137324693895\n",
        "alpha           p: 0.0816733015937       D: 0.0826366591906"
       ]
      },
      {
       "output_type": "stream",
       "stream": "stdout",
       "text": [
        "\n",
        "anglit          p: 1.59163398017e-08     D: 0.199814514372"
       ]
      },
      {
       "output_type": "stream",
       "stream": "stdout",
       "text": [
        "\n",
        "arcsine         p: 0.0                   D: 0.351463250101"
       ]
      },
      {
       "output_type": "stream",
       "stream": "stdout",
       "text": [
        "\n",
        "beta            p: 0.296512206583        D: 0.0636982932644"
       ]
      },
      {
       "output_type": "stream",
       "stream": "stdout",
       "text": [
        "\n",
        "betaprime       p: 0.354606589702        D: 0.0606077332838"
       ]
      },
      {
       "output_type": "stream",
       "stream": "stdout",
       "text": [
        "\n",
        "bradford        p: 4.31852371641e-08     D: 0.194421706171"
       ]
      },
      {
       "output_type": "stream",
       "stream": "stdout",
       "text": [
        "\n",
        "burr            p: 0.308734074951        D: 0.0630137327974"
       ]
      },
      {
       "output_type": "stream",
       "stream": "stdout",
       "text": [
        "\n",
        "cauchy          p: 1.46856349303e-09     D: 0.212117863738\n",
        "chi             p: 0.240027521831        D: 0.0671671351048"
       ]
      },
      {
       "output_type": "stream",
       "stream": "stdout",
       "text": [
        "\n",
        "chi2            p: 0.00180297539745      D: 0.122588520942"
       ]
      },
      {
       "output_type": "stream",
       "stream": "stdout",
       "text": [
        "\n",
        "cosine          p: 3.51870931814e-06     D: 0.168538042683\n",
        "dgamma          p: 1.35267144863e-05     D: 0.159759849353\n",
        "dweibull        p: 6.40765368276e-06     D: 0.164689579493"
       ]
      },
      {
       "output_type": "stream",
       "stream": "stdout",
       "text": [
        "\n",
        "erlang          p: 0.482080488421        D: 0.0549027969289"
       ]
      },
      {
       "output_type": "stream",
       "stream": "stdout",
       "text": [
        "\n",
        "expon           p: 0.327543304604        D: 0.0619979057516\n",
        "exponweib       p: 0.427660482205        D: 0.0571950225015"
       ]
      },
      {
       "output_type": "stream",
       "stream": "stdout",
       "text": [
        "\n",
        "exponpow        p: 0.187801301035        D: 0.0709835933813"
       ]
      },
      {
       "output_type": "stream",
       "stream": "stdout",
       "text": [
        "\n",
        "fatiguelife     p: 0.0504473379674       D: 0.0886847584225"
       ]
      },
      {
       "output_type": "stream",
       "stream": "stdout",
       "text": [
        "\n",
        "foldcauchy      p: 0.00569432164628      D: 0.11205459012"
       ]
      },
      {
       "output_type": "stream",
       "stream": "stdout",
       "text": [
        "\n",
        "f               p: 0.481513231924        D: 0.05492578885"
       ]
      },
      {
       "output_type": "stream",
       "stream": "stdout",
       "text": [
        "\n",
        "fisk            p: 0.103237099677        D: 0.0795297804885"
       ]
      },
      {
       "output_type": "stream",
       "stream": "stdout",
       "text": [
        "\n",
        "foldnorm        p: 0.000764272487934     D: 0.12989066944"
       ]
      },
      {
       "output_type": "stream",
       "stream": "stdout",
       "text": [
        "\n",
        "frechet_r       p: 0.391336533603        D: 0.0588365899466\n",
        "frechet_l       p: 0.00332543914696      D: 0.117100051043"
       ]
      },
      {
       "output_type": "stream",
       "stream": "stdout",
       "text": [
        "\n",
        "gamma           p: 0.482126809772        D: 0.054900920216"
       ]
      },
      {
       "output_type": "stream",
       "stream": "stdout",
       "text": [
        "\n",
        "gausshyper      p: 0.60047551822         D: 0.0504333242411"
       ]
      },
      {
       "output_type": "stream",
       "stream": "stdout",
       "text": [
        "\n",
        "genexpon        p: 0.237599820293        D: 0.0673295212303"
       ]
      },
      {
       "output_type": "stream",
       "stream": "stdout",
       "text": [
        "\n",
        "genextreme      p: 0.0399893647303       D: 0.0914584419458"
       ]
      },
      {
       "output_type": "stream",
       "stream": "stdout",
       "text": [
        "\n",
        "gengamma        p: 0.55713770779         D: 0.0520005659096"
       ]
      },
      {
       "output_type": "stream",
       "stream": "stdout",
       "text": [
        "\n",
        "genlogistic     p: 0.00384683040818      D: 0.115755641143"
       ]
      },
      {
       "output_type": "stream",
       "stream": "stdout",
       "text": [
        "\n",
        "genpareto       p: 0.230700108078        D: 0.0677980736122"
       ]
      },
      {
       "output_type": "stream",
       "stream": "stdout",
       "text": [
        "\n",
        "genhalflogistic p: 0.0228406245094       D: 0.0978224881554"
       ]
      },
      {
       "output_type": "stream",
       "stream": "stdout",
       "text": [
        "\n",
        "gilbrat         p: 0.05538243079         D: 0.0875457214614\n",
        "gompertz        p: 0.270010058318        D: 0.0652577101476"
       ]
      },
      {
       "output_type": "stream",
       "stream": "stdout",
       "text": [
        "\n",
        "gumbel_l        p: 1.94210469928e-09     D: 0.210713452953\n",
        "gumbel_r        p: 0.00373371708937      D: 0.116032406079\n",
        "halfcauchy      p: 0.00137999319974      D: 0.124909398412\n",
        "halflogistic    p: 0.0786103798491       D: 0.083132523719"
       ]
      },
      {
       "output_type": "stream",
       "stream": "stdout",
       "text": [
        "\n",
        "halfnorm        p: 0.00431903032702      D: 0.114675603517\n",
        "hypsecant       p: 4.74161148878e-05     D: 0.151116071836\n",
        "invgamma        p: 0.0464432078705       D: 0.0896819580574"
       ]
      },
      {
       "output_type": "stream",
       "stream": "stdout",
       "text": [
        "\n",
        "invgauss        p: 0.0383518739798       D: 0.0919487446246\n",
        "invweibull      p: 0.0399596115998       D: 0.0914671932707"
       ]
      },
      {
       "output_type": "stream",
       "stream": "stdout",
       "text": [
        "\n",
        "johnsonsb       p: 0.765137305534        D: 0.0439844947894"
       ]
      },
      {
       "output_type": "stream",
       "stream": "stdout",
       "text": [
        "\n",
        "johnsonsu       p: 0.0542976431308       D: 0.0877883703963"
       ]
      },
      {
       "output_type": "stream",
       "stream": "stdout",
       "text": [
        "\n",
        "laplace         p: 5.80400816563e-06     D: 0.165331159743\n",
        "logistic        p: 0.000205503235978     D: 0.140324961888\n",
        "loggamma        p: 0.000455303812268     D: 0.134103472427"
       ]
      },
      {
       "output_type": "stream",
       "stream": "stdout",
       "text": [
        "\n",
        "loglaplace      p: 0.010306109464        D: 0.106210421572"
       ]
      },
      {
       "output_type": "stream",
       "stream": "stdout",
       "text": [
        "\n",
        "lognorm         p: 0.0577554488235       D: 0.0870288449518\n",
        "lomax           p: 0.299551089242        D: 0.0635261724916"
       ]
      },
      {
       "output_type": "stream",
       "stream": "stdout",
       "text": [
        "\n",
        "maxwell         p: 4.47308931883e-05     D: 0.151528937526\n",
        "mielke          p: 0.173279941925        D: 0.0721916370773"
       ]
      },
      {
       "output_type": "stream",
       "stream": "stdout",
       "text": [
        "\n",
        "nakagami        p: 0.16494200767         D: 0.0729220712894"
       ]
      },
      {
       "output_type": "stream",
       "stream": "stdout",
       "text": [
        "\n",
        "ncx2            p: 0.0                   D: 0.282608695652"
       ]
      },
      {
       "output_type": "stream",
       "stream": "stdout",
       "text": [
        "\n",
        "ncf             p: 0.339916718496        D: 0.0613524808178"
       ]
      },
      {
       "output_type": "stream",
       "stream": "stdout",
       "text": [
        "\n",
        "nct             p: 0.0416540641155       D: 0.0909776111518"
       ]
      },
      {
       "output_type": "stream",
       "stream": "stdout",
       "text": [
        "\n",
        "pareto          p: 0.0                   D: 1.0\n",
        "powerlaw        p: 1.84068827735e-07     D: 0.186301889932"
       ]
      },
      {
       "output_type": "stream",
       "stream": "stdout",
       "text": [
        "\n",
        "powerlognorm    p: 0.0189584159244       D: 0.0998493774535"
       ]
      },
      {
       "output_type": "stream",
       "stream": "stdout",
       "text": [
        "\n",
        "powernorm       p: 0.0                   D: 1.0"
       ]
      },
      {
       "output_type": "stream",
       "stream": "stdout",
       "text": [
        "\n",
        "rdist           p: 0.0                   D: 0.415513884815"
       ]
      },
      {
       "output_type": "stream",
       "stream": "stdout",
       "text": [
        "\n",
        "reciprocal      p: 0.0                   D: 1.0\n",
        "rayleigh        p: 1.16356444591e-05     D: 0.160765843263\n",
        "rice            p: 1.15264382872e-05     D: 0.160828622913"
       ]
      },
      {
       "output_type": "stream",
       "stream": "stdout",
       "text": [
        "\n",
        "recipinvgauss   p: 0.132518340866        D: 0.0760797730625"
       ]
      },
      {
       "output_type": "stream",
       "stream": "stdout",
       "text": [
        "\n",
        "semicircular    p: 1.10182085677e-10     D: 0.224698709849\n",
        "t               p: 0.000568287397736     D: 0.132317179897"
       ]
      },
      {
       "output_type": "stream",
       "stream": "stdout",
       "text": [
        "\n",
        "triang          p: 1.30881478322e-07     D: 0.188244237792\n",
        "truncexpon      p: 2.25229301876e-09     D: 0.20996491617"
       ]
      },
      {
       "output_type": "stream",
       "stream": "stdout",
       "text": [
        "\n",
        "truncnorm       p: 0.0                   D: 1.0\n",
        "tukeylambda     p: 1.93821792771e-06     D: 0.172279665509"
       ]
      },
      {
       "output_type": "stream",
       "stream": "stdout",
       "text": [
        "\n",
        "uniform         p: 4.38293845662e-12     D: 0.239400964974"
       ]
      },
      {
       "output_type": "stream",
       "stream": "stdout",
       "text": [
        "\n",
        "vonmises        p: nan                   D: 2.87382364565e+32"
       ]
      },
      {
       "output_type": "stream",
       "stream": "stdout",
       "text": [
        "\n",
        "wald            p: 0.030759879518        D: 0.0944934939422\n",
        "weibull_min     p: 0.391336533603        D: 0.0588365899466"
       ]
      },
      {
       "output_type": "stream",
       "stream": "stdout",
       "text": [
        "\n",
        "weibull_max     p: 0.00332543914696      D: 0.117100051043"
       ]
      },
      {
       "output_type": "stream",
       "stream": "stdout",
       "text": [
        "\n",
        "wrapcauchy      p: nan                   D: nan\n",
        "ksone           p: 2.22044604925e-16     D: 0.28110482371"
       ]
      },
      {
       "output_type": "stream",
       "stream": "stdout",
       "text": [
        "\n",
        "kstwobign       p: 0.000917537304923     D: 0.128370794249"
       ]
      },
      {
       "output_type": "stream",
       "stream": "stdout",
       "text": [
        "\n",
        "-------------------------------------------------------------------\n",
        "Top 5\n",
        "-------------------------------------------------------------------\n",
        "1    johnsonsb        \tp:  0.765137305534 \tD:  0.0439844947894\n",
        "2    gausshyper       \tp:  0.60047551822 \tD:  0.0504333242411\n",
        "3    gengamma         \tp:  0.55713770779 \tD:  0.0520005659096\n",
        "4    gamma            \tp:  0.482126809772 \tD:  0.054900920216\n",
        "5    erlang           \tp:  0.482080488421 \tD:  0.0549027969289\n",
        "johnsonsb"
       ]
      },
      {
       "output_type": "stream",
       "stream": "stdout",
       "text": [
        "\n",
        "gausshyper"
       ]
      },
      {
       "output_type": "stream",
       "stream": "stdout",
       "text": [
        "\n",
        "gengamma"
       ]
      },
      {
       "output_type": "stream",
       "stream": "stdout",
       "text": [
        "\n",
        "gamma"
       ]
      },
      {
       "output_type": "stream",
       "stream": "stdout",
       "text": [
        "\n",
        "erlang\n"
       ]
      },
      {
       "metadata": {},
       "output_type": "display_data",
       "png": "[encoded data removed]",
       "text": [
        "<matplotlib.figure.Figure at 0xa355186c>"
       ]
      }
     ],
     "prompt_number": 141
    },
    {
     "cell_type": "code",
     "collapsed": false,
     "input": [
      "PlotHist(df_out_Murcia_2['AOT_500'], bin=np.arange(0,0.75,0.05), cdf=\"gamma\")"
     ],
     "language": "python",
     "metadata": {},
     "outputs": [
      {
       "output_type": "stream",
       "stream": "stdout",
       "text": [
        "gamma           p: 0.482126809772        D: 0.054900920216\n"
       ]
      },
      {
       "metadata": {},
       "output_type": "display_data",
       "png": "[encoded data removed]",
       "text": [
        "<matplotlib.figure.Figure at 0xa336aa4c>"
       ]
      }
     ],
     "prompt_number": 146
    },
    {
     "cell_type": "code",
     "collapsed": false,
     "input": [
      "from pandas.tseries.offsets import MonthEnd\n",
      "df_out_Murcia_2['2013-1'].index[0]  + MonthEnd()"
     ],
     "language": "python",
     "metadata": {},
     "outputs": [
      {
       "metadata": {},
       "output_type": "pyout",
       "prompt_number": 134,
       "text": [
        "Timestamp('2013-01-31 00:00:00', tz=None)"
       ]
      }
     ],
     "prompt_number": 134
    }
   ],
   "metadata": {}
  }
 ]
}