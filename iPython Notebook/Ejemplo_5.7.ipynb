{
 "metadata": {
  "name": "",
  "signature": "sha256:dd83e61cdd7b6490e86e7b1ebe8d3f7d81380a9350595e79131ebcefda8936f4"
 },
 "nbformat": 3,
 "nbformat_minor": 0,
 "worksheets": [
  {
   "cells": [
    {
     "cell_type": "raw",
     "metadata": {},
     "source": []
    },
    {
     "cell_type": "code",
     "collapsed": false,
     "input": [
      "from rangosuma import *"
     ],
     "language": "python",
     "metadata": {},
     "outputs": []
    },
    {
     "cell_type": "code",
     "collapsed": false,
     "input": [
      "%pylab"
     ],
     "language": "python",
     "metadata": {},
     "outputs": []
    },
    {
     "cell_type": "code",
     "collapsed": false,
     "input": [
      "import numpy\n",
      "import matplotlib\n",
      "from matplotlib import pylab, mlab, pyplot\n",
      "np = numpy\n",
      "plt = pyplot\n",
      "\n",
      "from IPython.display import display\n",
      "from IPython.core.pylabtools import figsize, getfigs\n",
      "\n",
      "from pylab import *\n",
      "from numpy import *\n",
      "from math import factorial\n",
      "from scipy.stats import norm\n",
      "\n",
      "from rangosuma import *\n",
      "\n",
      "import pandas as pd\n",
      "\n",
      "seeded = array([49,4,18,26,29,9,16,12,2,22,10,34], ndmin=2).T\n",
      "unseeded = array([61,33,62,45,0,30,82,10,20,358,63,NaN], ndmin=2).T\n",
      "S = ['S' for i in range(len(seeded))]\n",
      "N =  ['N' for i in range(len(unseeded))]\n",
      "S = chararray((len(seeded), 1))\n",
      "S[:] = 'S'\n",
      "N =  chararray((len(unseeded)-1, 1))\n",
      "N[:] = 'N'\n",
      "\n",
      "A = column_stack((seeded,unseeded))\n",
      "##A = vstack((seeded,unseeded)).T        #Si son vectores fila\n",
      "##A = vstack((seeded,unseeded))\n",
      "##A = hstack((seeded,unseeded))          #Si son vectores columna\n",
      "##A = column_stack((seeded,unseeded))\n",
      "##A[where(~isnan(A))]\n",
      "B = copy(A)\n",
      "B[isnan(B)]=-1\n",
      "\n",
      "\n",
      "media = np.nanmean(A,axis=0)\n",
      "strikes = np.nansum(A,axis=0)\n",
      "desviacion = np.nanstd(A,axis=0,ddof=1)\n",
      "var = np.nanvar(A,axis=0)\n",
      "print 'Seeded        Unseeded'\n",
      "print '        Media         '\n",
      "print str(media[0]) + '         ' + str(round(media[1],2))\n",
      "print '        Desviacion         '\n",
      "print str(round(desviacion[0],2)) + '    ' + str(round(desviacion[1],2))\n",
      "\n",
      "\n",
      "U1, p, R = rangosuma(seeded,unseeded[:11])\n",
      "R = array([R]).T\n",
      "\n",
      "sn1 = column_stack((seeded,S))\n",
      "\n",
      "##SS = reshape(A, (len(A)*2, 1))\n",
      "SS = vstack((seeded,unseeded[:-1,:]))\n",
      "SU = vstack((S,N))\n",
      "dt = [('strikes', '<i4'), ('seed', '|S1'), ('ranks', 'f8')]\n",
      "SSN = zeros((len(SS), 1), dtype=dt)\n",
      "SSN['strikes']=SS\n",
      "SSN['seed']=SU\n",
      "SSN['ranks']=R\n",
      "tabla = sort(SSN, 0, order='strikes')\n",
      "###Datos segregados\n",
      "##s1 = array([tabla[tabla['seed']=='S']]).T\n",
      "##s2 = array([tabla[tabla['seed']=='N']]).T\n",
      "##R1= sum(s1['ranks'])\n",
      "##R2 = sum(s2['ranks'])\n",
      "\n",
      "####df.convert_objects(convert_numeric=True)\n",
      "##df = pd.DataFrame(seeded,columns=['seed'])\n",
      "####df['S'] = 'S'\n",
      "##df['S'] = S\n",
      "\n",
      "df = pd.DataFrame(SSN.flatten())\n",
      "tablapd = df.sort('strikes')"
     ],
     "language": "python",
     "metadata": {},
     "outputs": []
    },
    {
     "cell_type": "code",
     "collapsed": false,
     "input": [
      "whos"
     ],
     "language": "python",
     "metadata": {},
     "outputs": []
    },
    {
     "cell_type": "code",
     "collapsed": false,
     "input": [
      "tablapd"
     ],
     "language": "python",
     "metadata": {},
     "outputs": []
    },
    {
     "cell_type": "code",
     "collapsed": false,
     "input": [
      "x+2"
     ],
     "language": "python",
     "metadata": {},
     "outputs": []
    },
    {
     "cell_type": "code",
     "collapsed": false,
     "input": [
      "5./6"
     ],
     "language": "python",
     "metadata": {},
     "outputs": []
    },
    {
     "cell_type": "code",
     "collapsed": false,
     "input": [
      "from sympy import *"
     ],
     "language": "python",
     "metadata": {
      "slideshow": {
       "slide_type": "-"
      }
     },
     "outputs": []
    },
    {
     "cell_type": "code",
     "collapsed": false,
     "input": [],
     "language": "python",
     "metadata": {},
     "outputs": []
    }
   ],
   "metadata": {}
  }
 ]
}