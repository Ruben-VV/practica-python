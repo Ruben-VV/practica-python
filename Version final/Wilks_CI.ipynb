{
 "metadata": {
  "name": "",
  "signature": "sha256:5a26e7f2cf8281e3cec804e0cae98a5f85d9b1671e2d220d07c52a6afb995aaf"
 },
 "nbformat": 3,
 "nbformat_minor": 0,
 "worksheets": [
  {
   "cells": [
    {
     "cell_type": "code",
     "collapsed": false,
     "input": [
      "# -*- coding: utf-8 -*-"
     ],
     "language": "python",
     "metadata": {},
     "outputs": [],
     "prompt_number": 1
    },
    {
     "cell_type": "raw",
     "metadata": {},
     "source": [
      "Ejemplos sacados del libro:\n",
      "http://cisne.sim.ucm.es/search~S29*spi?/awilks/awilks/1%2C19%2C41%2CB/frameset&FF=awilks+daniel+s&2%2C%2C3/indexsort=-"
     ]
    },
    {
     "cell_type": "code",
     "collapsed": false,
     "input": [
      "%pylab"
     ],
     "language": "python",
     "metadata": {},
     "outputs": [
      {
       "output_type": "stream",
       "stream": "stdout",
       "text": [
        "Using matplotlib backend: TkAgg\n",
        "Populating the interactive namespace from numpy and matplotlib\n"
       ]
      }
     ],
     "prompt_number": 2
    },
    {
     "cell_type": "code",
     "collapsed": false,
     "input": [
      "%matplotlib inline\n",
      "import pandas as pd\n",
      "\n",
      "from matplotlib import pylab, mlab, pyplot\n",
      "import numpy.random as npr\n",
      "#from math import factorial\n",
      "import scipy.misc\n",
      "from scipy.stats import norm, t, chi2, sem\n",
      "\n",
      "from IPython.display import display, Math, Latex"
     ],
     "language": "python",
     "metadata": {},
     "outputs": [],
     "prompt_number": 3
    },
    {
     "cell_type": "code",
     "collapsed": false,
     "input": [
      "%%latex\n",
      "$$z_{\\alpha/2} = norm.ppf({\\alpha/2})$$\n",
      "$${\\alpha/2} = norm.cdf({\\alpha/2})=Prob(Z<=z_{\\alpha/2})$$\n",
      "Para cola por la izquierda\n",
      "$$c = 1 - \\alpha$$\n",
      "$$-norm.ppf(\\alpha/2.) = norm.ppf(\\alpha/2.+1-\\alpha) = norm.ppf((2-\\alpha)/2) = norm.ppf((1+c)/2.)$$"
     ],
     "language": "python",
     "metadata": {},
     "outputs": [
      {
       "latex": [
        "$$z_{\\alpha/2} = norm.ppf({\\alpha/2})$$\n",
        "$${\\alpha/2} = norm.cdf({\\alpha/2})=Prob(Z<=z_{\\alpha/2})$$\n",
        "Para cola por la izquierda\n",
        "$$c = 1 - \\alpha$$\n",
        "$$-norm.ppf(\\alpha/2.) = norm.ppf(\\alpha/2.+1-\\alpha) = norm.ppf((2-\\alpha)/2) = norm.ppf((1+c)/2.)$$"
       ],
       "metadata": {},
       "output_type": "display_data",
       "text": [
        "<IPython.core.display.Latex at 0xa3fc960c>"
       ]
      }
     ],
     "prompt_number": 4
    },
    {
     "cell_type": "code",
     "collapsed": false,
     "input": [
      "def ci_norm(x, a=0.05, sigma=None):\n",
      "    \"\"\"Calculo de Intervalos de Confianza para una distribucion normal\n",
      "    IC para distribucion normal, seleccionando casos dependiendo si conocemos\n",
      "    la desviacion poblacional sigma (o la varianza var = sigma**2)\n",
      "    a -> nivel de significacion\n",
      "    c = 1-a -> nivel de confianza\n",
      "    \"\"\"\n",
      "    n = len(x)\n",
      "    if type(x) == tuple or type(x) == list:\n",
      "        x = 1.0*array(x)\n",
      "        \n",
      "    if sigma != None:\n",
      "        s = sigma\n",
      "        z = -norm.ppf(a/2.)\n",
      "    else:\n",
      "        if isinstance(x,pd.DataFrame):\n",
      "            m = x.mean().values\n",
      "            s = x.std(ddof=1).values\n",
      "            s2 = x.var(ddof=1).values\n",
      "        else:\n",
      "            m = x.mean(axis=0)\n",
      "            s = x.std(axis=0,ddof=1)\n",
      "            s2 = x.var(axis=0,ddof=1)\n",
      "        if n > 30:\n",
      "            z = -norm.ppf(a/2.)\n",
      "        else:\n",
      "            z = -t.ppf(a/2.,n-1)\n",
      "##            z = t.ppf((1+c)/2,n-1)\n",
      "##scipy.stats.sem(x) calcula el error estandar que es igual a std/sqrt(n)\n",
      "##    m, se = np.mean(x), scipy.stats.sem(x)\n",
      "##    h = se * z\n",
      "##    se = sem(x)\n",
      "##    h2 = se * z\n",
      "    z1, z2 = chi2.ppf(1-a/2,n-1), chi2.ppf(a/2,n-1)\n",
      "    i1, i2 = (n-1) * s2 / z1, (n-1) * s2 / z2\n",
      "    h = s * z / sqrt(n)\n",
      "    \n",
      "    data = [m, m-h, m+h, s2, i1, i2, s, sqrt(i1), sqrt(i2)]\n",
      "    #index_mean = ['Mean', 'CI_low', 'CI_high']\n",
      "    index = ['MEAN', 'low_mean', 'high_mean', 'VARIANCE', 'low_var', 'high_var',\\\n",
      "             'STD', 'low_std', 'high_std']\n",
      "    \n",
      "    if isinstance(x, pd.DataFrame):\n",
      "        ci = pd.DataFrame(data, index=index, columns=x.columns)\n",
      "    else:\n",
      "        ci = pd.DataFrame(data, index=index, columns=[str((1-a)*100) + '%'])\n",
      "    return ci\n"
     ],
     "language": "python",
     "metadata": {},
     "outputs": [],
     "prompt_number": 5
    },
    {
     "cell_type": "code",
     "collapsed": false,
     "input": [
      "def bootstrap(data, statistic=None, n_bootstraps=10000, seed=None, ci_width=0.95):\n",
      "    if statistic==None:\n",
      "        statistic = [\"mean\", \"std\"]\n",
      "    else:\n",
      "        statistic = [statistic]\n",
      "    data = np.asarray(data)\n",
      "    rng = np.random.RandomState(seed)\n",
      "    n = len(data)\n",
      "    \n",
      "    idx = rng.random_integers(0, n-1, (n_bootstraps, n))\n",
      "    samples = data[idx]\n",
      "    \n",
      "    bootstrapped = []\n",
      "    for fun in statistic:\n",
      "        arg=\"\"\n",
      "        if fun==\"std\":\n",
      "            arg = \",ddof=1\"\n",
      "        bootstrapped.append(eval(\"np.\"+fun+\"(samples,1\"+arg+\")\"))        \n",
      "        [x.sort() for x in bootstrapped]\n",
      "    \n",
      "    ci_min = (1 - ci_width) / 2.\n",
      "    ci_max = 1. - ci_min\n",
      "    ci = [[x[int(ci_min * n_bootstraps)], x[int(ci_max * n_bootstraps)]] for x in bootstrapped]\n",
      "\n",
      "    return bootstrapped, ci    \n",
      "    \n",
      "\n",
      "def plot_bootstrap(stat, ci_stat, statistic=\"Mean\"):    \n",
      "    pylab.figure(figsize=(8,4))\n",
      "    pylab.hist(stat[0], 100, histtype='step')\n",
      "    color = ['red', 'green']\n",
      "    for i in xrange(2):\n",
      "        pylab.axvline(ci_stat[i], c=color[i])\n",
      "    pylab.title(\"Historgram of data for \"+ statistic + \"\\'s Bootstrap\")\n",
      "    print \"Bootstrapped 95% confidence intervals of \"+ statistic + \"\\nLow:\", ci_stat[0],\\\n",
      "          \"\\nHigh:\", ci_stat[1]\n",
      "    print \"--\"*25\n",
      "    "
     ],
     "language": "python",
     "metadata": {},
     "outputs": [],
     "prompt_number": 6
    },
    {
     "cell_type": "heading",
     "level": 1,
     "metadata": {},
     "source": [
      "EJEMPLO 5.10"
     ]
    },
    {
     "cell_type": "code",
     "collapsed": false,
     "input": [
      "#Jannuary precipitation at Ithaca, NY, 1933-1982, inches\n",
      "P = [0.44, 1.18, 2.69, 2.08, 3.66, 1.72, 2.82, 0.72, 1.46, 1.30, 1.35, .54,\n",
      "     2.74, 1.13, 2.5, 1.72, 2.27, 2.82, 1.98, 2.44, 2.53, 2.0, 1.12, 2.13,\n",
      "     1.36, 4.9, 2.94, 1.75, 1.69, 1.88, 1.31, 1.76, 2.17, 2.38, 1.16, 1.39,\n",
      "     1.36, 1.03, 1.11, 1.35, 1.44, 1.84, 1.69,\n",
      "     3.0, 1.36, 6.37, 4.55, .52, .87, 1.51]\n",
      "year = range(1933,1982+1,1)\n",
      "ithaca = pd.DataFrame(P,columns=['P'],index=year)\n",
      "##ithaca.dtypes\n",
      "ithaca['log P'] = np.log(ithaca['P'])\n",
      "#x = ithaca['log P'].values\n",
      "print ci_norm(ithaca)\n"
     ],
     "language": "python",
     "metadata": {},
     "outputs": [
      {
       "output_type": "stream",
       "stream": "stdout",
       "text": [
        "                  P     log P\n",
        "MEAN       1.960600  0.534569\n",
        "low_mean   1.651301  0.385695\n",
        "high_mean  2.269899  0.683442\n",
        "VARIANCE   1.245173  0.288476\n",
        "low_var    0.868861  0.201293\n",
        "high_var   1.933565  0.447959\n",
        "STD        1.115873  0.537099\n",
        "low_std    0.932127  0.448657\n",
        "high_std   1.390527  0.669297\n",
        "\n",
        "[9 rows x 2 columns]\n"
       ]
      }
     ],
     "prompt_number": 7
    },
    {
     "cell_type": "code",
     "collapsed": false,
     "input": [
      "x = ithaca['log P'].values\n",
      "\n",
      "stat_mean, ci_mean = bootstrap(x,\"mean\")\n",
      "obs_mean = np.mean(x)\n",
      "print \"Mean of sample data: \\n\", obs_mean\n",
      "plot_bootstrap(stat_mean, ci_mean[0])\n",
      "pylab.axvline(obs_mean, c='black')\n",
      "\n",
      "stat_std, ci_std = bootstrap(x,\"std\")\n",
      "obs_std = np.std(x,ddof=1)\n",
      "print \"Standard Desviation of sample data: \\n\", obs_std\n",
      "plot_bootstrap(stat_std, ci_std[0], \"STD\")\n",
      "pylab.axvline(obs_mean, c='black')"
     ],
     "language": "python",
     "metadata": {},
     "outputs": [
      {
       "output_type": "stream",
       "stream": "stdout",
       "text": [
        "Mean of sample data: \n",
        "0.534568595448\n",
        "Bootstrapped 95% confidence intervals of Mean\n",
        "Low:"
       ]
      },
      {
       "output_type": "stream",
       "stream": "stdout",
       "text": [
        " 0.386701017392 \n",
        "High: 0.680581573431\n",
        "--------------------------------------------------\n",
        "Standard Desviation of sample data: \n",
        "0.537099310948\n",
        "Bootstrapped 95% confidence intervals of STD\n",
        "Low:"
       ]
      },
      {
       "output_type": "stream",
       "stream": "stdout",
       "text": [
        " 0.411018833221 \n",
        "High: 0.646600116119\n",
        "--------------------------------------------------\n"
       ]
      },
      {
       "metadata": {},
       "output_type": "pyout",
       "prompt_number": 8,
       "text": [
        "<matplotlib.lines.Line2D at 0xa3f593cc>"
       ]
      },
      {
       "metadata": {},
       "output_type": "display_data",
       "png": "[encoded data removed]",
       "text": [
        "<matplotlib.figure.Figure at 0xa416ad0c>"
       ]
      },
      {
       "metadata": {},
       "output_type": "display_data",
       "png": "[encoded data removed]",
       "text": [
        "<matplotlib.figure.Figure at 0xa3f94fcc>"
       ]
      }
     ],
     "prompt_number": 8
    },
    {
     "cell_type": "heading",
     "level": 3,
     "metadata": {},
     "source": [
      "Bootstrap with permutation-resampling"
     ]
    },
    {
     "cell_type": "code",
     "collapsed": false,
     "input": [
      "def permutation_resampling(case, control, num_samples, statistic):\n",
      "    \"\"\"Returns p-value that statistic for case is different\n",
      "    from statistc for control.\"\"\"\n",
      "\n",
      "    observed_diff = abs(statistic(case) - statistic(control))\n",
      "    num_case = len(case)\n",
      "\n",
      "    combined = np.concatenate([case, control])\n",
      "    diffs = []\n",
      "    for i in range(num_samples):\n",
      "        xs = npr.permutation(combined)\n",
      "        diff = np.mean(xs[:num_case]) - np.mean(xs[num_case:])\n",
      "        diffs.append(diff)\n",
      "\n",
      "    pval = (np.sum(diffs > observed_diff) +\n",
      "            np.sum(diffs < -observed_diff))/float(num_samples)\n",
      "    return pval, observed_diff, diffs\n",
      "\n",
      "if __name__ == '__main__':\n",
      "    # make up some data\n",
      "    case = [94, 38, 23, 197, 99, 16, 141]\n",
      "    control = [52, 10, 40, 104, 51, 27, 146, 30, 46]\n",
      "\n",
      "    # find p-value by permutation resampling\n",
      "    pval, observed_diff, diffs = \\\n",
      "          permutation_resampling(case, control, 10000, np.mean)\n",
      "\n",
      "    # make plots\n",
      "    pylab.title('Empirical null distribution for differences in mean')\n",
      "    pylab.hist(diffs, bins=100, histtype='step', normed=True)\n",
      "    pylab.axvline(observed_diff, c='red', label='diff')\n",
      "    pylab.axvline(-observed_diff, c='green', label='-diff')\n",
      "    pylab.text(60, 0.01, 'p = %.3f' % pval, fontsize=14)\n",
      "    pylab.legend()\n",
      "    #pylab.savefig('examples/permutation.png')"
     ],
     "language": "python",
     "metadata": {},
     "outputs": [
      {
       "metadata": {},
       "output_type": "display_data",
       "png": "[encoded data removed]",
       "text": [
        "<matplotlib.figure.Figure at 0xa3ff334c>"
       ]
      }
     ],
     "prompt_number": 9
    },
    {
     "cell_type": "heading",
     "level": 1,
     "metadata": {},
     "source": [
      "EJEMPLO 5.9 sin resampleo con permutacion y remplazo"
     ]
    },
    {
     "cell_type": "code",
     "collapsed": false,
     "input": [
      "def Lscale(x,y):\n",
      "    \"\"\"\n",
      "    Data in x in columns, rows for diferent variables    \n",
      "    Min size of x have to 2. Modify function if you want more columns\n",
      "    \"\"\"\n",
      "    x = [i for i in x if ~isnan(i)]\n",
      "    y = [i for i in y if ~isnan(i)]\n",
      "    n = [len(x), len(y)]\n",
      "    #xy = hstack([x, y])\n",
      "    #xy = concatenate([x, y])\n",
      "    xy = array([x, y])\n",
      "    cte = scipy.misc.factorial([x-2 for x in n]) / scipy.misc.factorial(n)\n",
      "    l = zeros(2)\n",
      "    #for c in range(len(n)):\n",
      "        #for xi in xy[:n[c]]:\n",
      "            #for xj in xy[where(xy == xi)[0][0]+1:]:\n",
      "                #l[c] += abs(xi - xj)\n",
      "    for c in range(len(n)):\n",
      "        for i in range(n[c]):\n",
      "            for j in range(i+1,n[c]):\n",
      "                l[c] += abs(xy[c][i] - xy[c][j])\n",
      "    L = cte * l\n",
      "    return L\n",
      "\n",
      "def permutacion(x, y, n=10000):\n",
      "    #x, y = array(datos[0]), array(datos[1]) \n",
      "    #x, y = x[~isnan(x)], y[~isnan(y)]\n",
      "    x, y = [i for i in x if ~isnan(i)], [i for i in y if ~isnan(i)]\n",
      "    xy = hstack([x,y])\n",
      "    #datos = concatenate([x,y])\n",
      "    nx, ny = len(x), len(y)    \n",
      "    ratio = zeros(n)    \n",
      "    for k in range(n):  \n",
      "        xyp = np.random.permutation(xy)\n",
      "        xp, yp = xyp[:nx], xyp[nx:]\n",
      "        Lp = Lscale(xp,yp)\n",
      "        ratio[k] = Lp[0]/Lp[1]\n",
      "    return ratio \n",
      "\n",
      "####################\n",
      "def permutacion2(x, y, n=10000):\n",
      "    x, y = [i for i in x if ~isnan(i)], [i for i in y if ~isnan(i)]\n",
      "    nx, ny = len(x), len(y)\n",
      "    xy = hstack([x,y])\n",
      "    #xy = concatenate([x,y])\n",
      "    nxy = len(xy)\n",
      "    m = range(nxy-1,nx-1,-1)\n",
      "    xyp = copy(xy)\n",
      "    ratio = zeros(n)\n",
      "    for k in range(n):  \n",
      "        #\n",
      "        for i in range(ny):\n",
      "            pos = int(round(m[i] * np.random.random()))            \n",
      "            xyp[pos], xyp[m[i]] = xyp[m[i]], xyp[pos]\n",
      "        #\n",
      "        xp, yp = xyp[:nx], xyp[nx:]\n",
      "        Lp = Lscale(xp,yp)\n",
      "        ratio[k] = Lp[0]/Lp[1]\n",
      "    return ratio\n",
      "    # Numero al azar entre [a,b]\n",
      "    #(b - a) * npr.random() + a\n",
      "    \n",
      "    \n",
      "if __name__ == '__main__':\n",
      "    seeded = [49,4,18,26,29,9,16,12,2,22,10,34]\n",
      "    unseeded = [61,33,62,45,0,30,82,10,20,358,63,NaN]\n",
      "    strikes = pd.DataFrame(array([seeded,unseeded]).T,columns=['seeded','unseeded'])\n",
      "    \n",
      "    L2 = Lscale(seeded,unseeded)\n",
      "    r0 = L2[0]/L2[1]\n",
      "    print L2\n",
      "    print r0\n",
      "    \n",
      "    radiop = permutacion(seeded,unseeded)\n",
      "    radiop2 = permutacion2(seeded,unseeded)\n",
      "    #Histograma de los datos\n",
      "    pylab.figure()\n",
      "    nper, bper, patchep = pylab.hist(radiop, 100, histtype='step')\n",
      "    pylab.title('Historgram of data L-scale')\n",
      "    pylab.figure()\n",
      "    nper2, bper2, patchep2 = pylab.hist(radiop2, 100, histtype='step')\n",
      "    pylab.title('Historgram of data L-scale 2')"
     ],
     "language": "python",
     "metadata": {},
     "outputs": [
      {
       "output_type": "stream",
       "stream": "stdout",
       "text": [
        "[  7.87121212  41.8       ]\n",
        "0.188306510077\n"
       ]
      },
      {
       "metadata": {},
       "output_type": "display_data",
       "png": "[encoded data removed]",
       "text": [
        "<matplotlib.figure.Figure at 0xa3fabbec>"
       ]
      },
      {
       "metadata": {},
       "output_type": "display_data",
       "png": "[encoded data removed]",
       "text": [
        "<matplotlib.figure.Figure at 0xa3dde8ac>"
       ]
      }
     ],
     "prompt_number": 10
    },
    {
     "cell_type": "raw",
     "metadata": {},
     "source": [
      "En el libro obtiene 49 de 10000 para el valor 0.188\n",
      "test para los valores p\n",
      "test de 1 cola = 0.0049\n",
      "test de 2 colas = 0.0098"
     ]
    },
    {
     "cell_type": "code",
     "collapsed": false,
     "input": [
      "rpr0 = radiop[where(radiop<r0)[0]]\n",
      "print len(rpr0)/10000.\n",
      "print ''\n",
      "rpr02 = radiop2[where(radiop2<r0)[0]]\n",
      "print len(rpr02)/10000.\n",
      "print '='*10\n",
      "print len(where(radiop<0.188)[0])/10000.\n",
      "print sum(radiop<0.188)/10000.\n",
      "print ''\n",
      "print len(where(radiop2<0.188)[0])/10000.\n",
      "print sum(radiop2<0.188)/10000."
     ],
     "language": "python",
     "metadata": {},
     "outputs": [
      {
       "output_type": "stream",
       "stream": "stdout",
       "text": [
        "0.0046\n",
        "\n",
        "0.0032\n",
        "==========\n",
        "0.0043\n",
        "0.0043\n",
        "\n",
        "0.0032\n",
        "0.0032\n"
       ]
      }
     ],
     "prompt_number": 11
    },
    {
     "cell_type": "heading",
     "level": 1,
     "metadata": {},
     "source": [
      "EJEMPLO 5.11"
     ]
    },
    {
     "cell_type": "code",
     "collapsed": false,
     "input": [
      "seeded = [49,4,18,26,29,9,16,12,2,22,10,34]\n",
      "unseeded = [61,33,62,45,0,30,82,10,20,358,63,None]\n",
      "strikes = pd.DataFrame(array([seeded,unseeded]).T,columns=['seeded','unseeded'])\n",
      "print strikes\n",
      "print ci_norm(strikes)"
     ],
     "language": "python",
     "metadata": {},
     "outputs": [
      {
       "output_type": "stream",
       "stream": "stdout",
       "text": [
        "   seeded unseeded\n",
        "0      49       61\n",
        "1       4       33\n",
        "2      18       62\n",
        "3      26       45\n",
        "4      29        0\n",
        "5       9       30\n",
        "6      16       82\n",
        "7      12       10\n",
        "8       2       20\n",
        "9      22      358\n",
        "10     10       63\n",
        "11     34     None\n",
        "\n",
        "[12 rows x 2 columns]\n",
        "               seeded      unseeded\n",
        "MEAN        19.250000     69.454545\n",
        "low_mean    10.605384      6.597012\n",
        "high_mean   27.894616    132.312079\n",
        "VARIANCE   185.113636   9787.272727\n",
        "low_var     92.894408   4911.485313\n",
        "high_var   533.643696  28214.649627\n",
        "STD         13.605647     98.930646\n",
        "low_std      9.638175     70.081990\n",
        "high_std    23.100729    167.972169\n",
        "\n",
        "[9 rows x 2 columns]\n"
       ]
      }
     ],
     "prompt_number": 12
    },
    {
     "cell_type": "code",
     "collapsed": false,
     "input": [
      "def Lscale2L(x,y):\n",
      "    \"\"\"\n",
      "    Data in x in columns, rows for diferent variables    \n",
      "    Min size of x have to 2. Modify function if you want more columns\n",
      "    \"\"\"\n",
      "    #x = [i for i in x if ~isnan(i)]\n",
      "    #y = [i for i in y if ~isnan(i)]\n",
      "    n = [len(x), len(y)]\n",
      "    #xy = hstack([x, y])\n",
      "    #xy = concatenate((x, y))\n",
      "    x = x.tolist()\n",
      "    y = y.tolist()\n",
      "    xy = array([x, y])\n",
      "    cte = scipy.misc.factorial([x-2 for x in n]) / scipy.misc.factorial(n)\n",
      "    l = zeros(2)\n",
      "    #for c in range(len(n)):\n",
      "        #for xi in xy[:n[c]]:\n",
      "            #for xj in xy[where(xy == xi)[0][0]+1:]:\n",
      "                #l[c] += abs(xi - xj)\n",
      "    for c in xrange(len(n)):\n",
      "        for i in xrange(n[c]):\n",
      "            for j in xrange(i+1,n[c]):\n",
      "                l[c] += abs(xy[c][i] - xy[c][j])\n",
      "    L = cte * l\n",
      "    r = L[0] / L[1]\n",
      "    return r, L\n",
      "\n",
      "\n",
      "def bootstrapL(datax, datay, num_samples, alpha):\n",
      "    \"\"\"Returns bootstrap estimate of 100.0*(1-alpha) CI for statistic.\"\"\"\n",
      "    nx = len(datax)\n",
      "    ny = len(datay)\n",
      "    idx = npr.randint(0, nx, (num_samples, nx))\n",
      "    idy = npr.randint(0, ny, (num_samples, ny))\n",
      "    samplesx = datax[idx]\n",
      "    samplesy = datay[idy]\n",
      "    \n",
      "    ratio=[]    \n",
      "    for i in xrange(num_samples):\n",
      "        ratio.append(Lscale2L(samplesx[i,:], samplesy[i,:])[0])\n",
      "    #statx = statL[0]\n",
      "    #staty = statL[1]\n",
      "    \n",
      "    #ratio = statx/staty\n",
      "    stat_ratio = np.sort(ratio)\n",
      "    return (stat_ratio[int((alpha/2.0)*num_samples)],\n",
      "                stat_ratio[int((1-alpha/2.0)*num_samples)], stat_ratio)\n",
      "    \n",
      "     \n",
      "\n",
      "if __name__ == '__main__':\n",
      "  \n",
      "    x = array(seeded)\n",
      "    y = array(unseeded[:-1])\n",
      "    # find mean 95% CI and 100,000 bootstrap samples\n",
      "    low_ratio, high_ratio, stat_ratio = bootstrapL(x, y, 10000, 0.05)\n",
      "    r_obs, L_obs = Lscale2L(x, y)\n",
      "    p_val = len([i for i in stat_ratio if i > 1])/float(len(stat_ratio))\n",
      "        \n",
      "    print \"Bootstrapped 95% confidence intervals of Lscale_ratio\\nLow:\", low_ratio,\\\n",
      "    \"\\nHigh:\", high_ratio \n",
      "    print \"The p-value (one-sided) is: \", p_val\n",
      "    # make plots for ratio\n",
      "    pylab.figure(figsize=(12,6))\n",
      "    pylab.hist(stat_ratio, 500, histtype='step')\n",
      "    pylab.axvline(low_ratio, c='red')\n",
      "    pylab.axvline(high_ratio, c='green')\n",
      "    pylab.title('Historgram of data for L-scale ratio')\n",
      "\n",
      "    #pylab.savefig('examples/boostrap.png')"
     ],
     "language": "python",
     "metadata": {},
     "outputs": [
      {
       "output_type": "stream",
       "stream": "stdout",
       "text": [
        "Bootstrapped 95% confidence intervals of Lscale_ratio\n",
        "Low: 0.0743507648524 \n",
        "High: 0.776548672566\n",
        "The p-value (one-sided) is:  0.0039\n"
       ]
      },
      {
       "metadata": {},
       "output_type": "display_data",
       "png": "[encoded data removed]",
       "text": [
        "<matplotlib.figure.Figure at 0xaddefd0c>"
       ]
      }
     ],
     "prompt_number": 13
    },
    {
     "cell_type": "raw",
     "metadata": {},
     "source": [
      "El libro pone que 33 de 10000 tienen un L-scale ratio mayor que uno, luego el p-value es 0.0033 \n",
      "(1 cola) y 0.0066 (2 colas)\n",
      "El IC del 95% queda [0.08, 0.75]"
     ]
    }
   ],
   "metadata": {}
  }
 ]
}