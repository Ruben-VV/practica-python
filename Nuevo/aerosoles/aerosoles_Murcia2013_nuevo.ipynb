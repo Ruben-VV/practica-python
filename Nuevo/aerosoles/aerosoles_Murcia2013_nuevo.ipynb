{
 "metadata": {
  "name": "",
  "signature": "sha256:6bcb7e3cfd1844cb31ad0b3b90b8928a358f54064c8bc239d8b19ceee3963fa3"
 },
 "nbformat": 3,
 "nbformat_minor": 0,
 "worksheets": [
  {
   "cells": [
    {
     "cell_type": "code",
     "collapsed": false,
     "input": [
      "%pylab\n",
      "%matplotlib inline"
     ],
     "language": "python",
     "metadata": {},
     "outputs": [
      {
       "output_type": "stream",
       "stream": "stdout",
       "text": [
        "Using matplotlib backend: TkAgg\n",
        "Populating the interactive namespace from numpy and matplotlib\n"
       ]
      }
     ],
     "prompt_number": 1
    },
    {
     "cell_type": "code",
     "collapsed": false,
     "input": [
      "#import scipy.misc\n",
      "from scipy.stats import norm, t, chi2, sem\n",
      "#from scipy.stats import *\n",
      "import pandas as pd\n",
      "\n",
      "import aeronettools as at\n",
      "import aeronettools2 as at2\n",
      "#import aeronettools_pynb as at3\n",
      "from aeronettools_pynb import extract_aeronet_data"
     ],
     "language": "python",
     "metadata": {},
     "outputs": [],
     "prompt_number": 2
    },
    {
     "cell_type": "raw",
     "metadata": {},
     "source": [
      "Se a\u00f1ade la carpeta 'funciones' al PYTHONPATCH"
     ]
    },
    {
     "cell_type": "code",
     "collapsed": false,
     "input": [
      "import sys\n",
      "sys.path.append('../funciones')\n",
      "from fun_bootstrap import bootstrap"
     ],
     "language": "python",
     "metadata": {},
     "outputs": [],
     "prompt_number": 3
    },
    {
     "cell_type": "raw",
     "metadata": {},
     "source": [
      "A\u00f1adimos la ruta de la carpeta 'funciones' donde tenemos todos los scripts al PYTHONPATH (LINUX)"
     ]
    },
    {
     "cell_type": "raw",
     "metadata": {},
     "source": [
      "%%!\n",
      "export pwd0=$PWD\n",
      "cd ../funciones\n",
      "export PYTHONPATH=$PYTHONPATH:$PWD\n",
      "echo $PYTHONPATH\n",
      "cd $pwd0"
     ]
    },
    {
     "cell_type": "raw",
     "metadata": {},
     "source": [
      "Otra manera de hacer lo anterior es usando rutas relativas, teniendo en cuenta que la carpeta donde esta este notebook y la carpeta 'funciones' estan en el mismo directorio"
     ]
    },
    {
     "cell_type": "raw",
     "metadata": {},
     "source": [
      "%%!\n",
      "export PYTHONPATH=$PYTHONPATH:../funciones"
     ]
    },
    {
     "cell_type": "code",
     "collapsed": false,
     "input": [
      "# Autocarga del modulo aeronettools_pynb\n",
      "%load_ext autoreload\n",
      "%aimport aeronettools_pynb\n",
      "%aimport aeronettools\n",
      "%aimport aeronettools2\n",
      "%aimport fun_bootstrap\n",
      "%autoreload 1"
     ],
     "language": "python",
     "metadata": {},
     "outputs": [],
     "prompt_number": 4
    },
    {
     "cell_type": "code",
     "collapsed": false,
     "input": [
      "# Comparaciones en los scripts para extraer los datos\n",
      "\n",
      "file_aeronet_Murcia = '/spred/pn32/Renovables/Red/Aeronet/lev15/130501_130531_Murcia.lev15'\n",
      "df_out_Murcia = extract_aeronet_data(file_aeronet_Murcia)\n",
      "print df_out_Murcia.shape\n",
      "print at.extract_aeronet_data(file_aeronet_Murcia).shape\n",
      "print at2.extract_aeronet_data(file_aeronet_Murcia).shape"
     ],
     "language": "python",
     "metadata": {},
     "outputs": [
      {
       "output_type": "stream",
       "stream": "stdout",
       "text": [
        "(164, 2)\n",
        "(103, 2)"
       ]
      },
      {
       "output_type": "stream",
       "stream": "stdout",
       "text": [
        "\n",
        "(131, 2)"
       ]
      },
      {
       "output_type": "stream",
       "stream": "stdout",
       "text": [
        "\n"
       ]
      }
     ],
     "prompt_number": 5
    },
    {
     "cell_type": "code",
     "collapsed": false,
     "input": [],
     "language": "python",
     "metadata": {},
     "outputs": []
    }
   ],
   "metadata": {}
  }
 ]
}